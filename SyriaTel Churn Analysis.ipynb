{
 "cells": [
  {
   "cell_type": "markdown",
   "metadata": {},
   "source": [
    "## Final Project Submission\n",
    "\n",
    "Please fill out:\n",
    "* Student name: Deon Durrant\n",
    "* Student pace: self paced / part time / full time\n",
    "* Scheduled project review date/time: \n",
    "* Instructor name: Mark  Bardour\n",
    "* Blog post URL:https://medium.com/@durrantdeon/basics-of-ensemble-methods-beb0b2aa250d\n"
   ]
  },
  {
   "cell_type": "markdown",
   "metadata": {},
   "source": [
    "# Business and Data Understanding\n",
    "\n",
    "## Problem Statement\n",
    "\n",
    "SyriaTel, a major telecommunications provider, is interested in minimizing resources expended on customers who are likely to terminate their services, a phenomenon known as churn.  Customers' churn  intentions maybe predictive by identifing and isolating patterns hidden in the data. \n",
    "\n",
    "## Data Understanding \n",
    "\n",
    "To tackle the business problem  I will diligently search for a classifier to  inveil predictive patterns indicating customer inclination to discontinue doing business with SyriaTel. This  constitutes a binary classification endeavor.\n",
    " \n",
    "**Classifiers**\n",
    "\n",
    "Various classifiers and evalaution metrics will be used to objectively select the most suitable model for addressing the business problem. The following  classifiers will be utilized:  \n",
    "\n",
    "*  Logistic Regression, \n",
    "* Decision Tree\n",
    "* KNeighbors Classifier\n",
    "* Random Forest  Classifier\n",
    "\n",
    " **Evaluation Metrics**\n",
    " \n",
    " To assess model performance objectively, the following evaluation metrics will be considered:\n",
    "* Precision\n",
    "* Recall\n",
    "* Accuracy\n",
    "* F1 score\n",
    "* AUC Score\n",
    "* Confusion Matrices"
   ]
  },
  {
   "cell_type": "code",
   "execution_count": 1,
   "metadata": {},
   "outputs": [],
   "source": [
    "# Import essential libraries\n",
    "from sklearn.linear_model import LogisticRegression\n",
    "from sklearn.metrics import  classification_report\n",
    "from sklearn.metrics import precision_score\n",
    "from sklearn.metrics import recall_score  \n",
    "from sklearn.metrics import accuracy_score\n",
    "from sklearn.metrics import f1_score  \n",
    "from sklearn.preprocessing import OneHotEncoder\n",
    "from sklearn.model_selection import train_test_split,  GridSearchCV, cross_val_score\n",
    "import numpy as np\n",
    "from sklearn.metrics import confusion_matrix\n",
    "import matplotlib.pyplot as plt\n",
    "%matplotlib inline\n",
    "from sklearn.metrics import confusion_matrix\n",
    "import seaborn as sns\n",
    "from sklearn.metrics import roc_curve, auc\n",
    "from sklearn.ensemble import BaggingClassifier, RandomForestClassifier\n",
    "from sklearn.neighbors import KNeighborsClassifier\n",
    "np.random.seed(1)\n"
   ]
  },
  {
   "cell_type": "markdown",
   "metadata": {},
   "source": [
    "# Exploratory Data Analysis \n",
    "- Examine and sanitize the data\n",
    "- Handle missing data appropriately\n",
    "- Investigate data attributes\n",
    "- Rectify typos, inconsistencies in capitalization, and naming conventions\n",
    "- Analyze the distribution of variables "
   ]
  },
  {
   "cell_type": "code",
   "execution_count": 2,
   "metadata": {},
   "outputs": [
    {
     "data": {
      "text/html": [
       "<div>\n",
       "<style scoped>\n",
       "    .dataframe tbody tr th:only-of-type {\n",
       "        vertical-align: middle;\n",
       "    }\n",
       "\n",
       "    .dataframe tbody tr th {\n",
       "        vertical-align: top;\n",
       "    }\n",
       "\n",
       "    .dataframe thead th {\n",
       "        text-align: right;\n",
       "    }\n",
       "</style>\n",
       "<table border=\"1\" class=\"dataframe\">\n",
       "  <thead>\n",
       "    <tr style=\"text-align: right;\">\n",
       "      <th></th>\n",
       "      <th>state</th>\n",
       "      <th>account length</th>\n",
       "      <th>area code</th>\n",
       "      <th>phone number</th>\n",
       "      <th>international plan</th>\n",
       "      <th>voice mail plan</th>\n",
       "      <th>number vmail messages</th>\n",
       "      <th>total day minutes</th>\n",
       "      <th>total day calls</th>\n",
       "      <th>total day charge</th>\n",
       "      <th>...</th>\n",
       "      <th>total eve calls</th>\n",
       "      <th>total eve charge</th>\n",
       "      <th>total night minutes</th>\n",
       "      <th>total night calls</th>\n",
       "      <th>total night charge</th>\n",
       "      <th>total intl minutes</th>\n",
       "      <th>total intl calls</th>\n",
       "      <th>total intl charge</th>\n",
       "      <th>customer service calls</th>\n",
       "      <th>churn</th>\n",
       "    </tr>\n",
       "  </thead>\n",
       "  <tbody>\n",
       "    <tr>\n",
       "      <th>0</th>\n",
       "      <td>KS</td>\n",
       "      <td>128</td>\n",
       "      <td>415</td>\n",
       "      <td>382-4657</td>\n",
       "      <td>no</td>\n",
       "      <td>yes</td>\n",
       "      <td>25</td>\n",
       "      <td>265.1</td>\n",
       "      <td>110</td>\n",
       "      <td>45.07</td>\n",
       "      <td>...</td>\n",
       "      <td>99</td>\n",
       "      <td>16.78</td>\n",
       "      <td>244.7</td>\n",
       "      <td>91</td>\n",
       "      <td>11.01</td>\n",
       "      <td>10.0</td>\n",
       "      <td>3</td>\n",
       "      <td>2.70</td>\n",
       "      <td>1</td>\n",
       "      <td>False</td>\n",
       "    </tr>\n",
       "    <tr>\n",
       "      <th>1</th>\n",
       "      <td>OH</td>\n",
       "      <td>107</td>\n",
       "      <td>415</td>\n",
       "      <td>371-7191</td>\n",
       "      <td>no</td>\n",
       "      <td>yes</td>\n",
       "      <td>26</td>\n",
       "      <td>161.6</td>\n",
       "      <td>123</td>\n",
       "      <td>27.47</td>\n",
       "      <td>...</td>\n",
       "      <td>103</td>\n",
       "      <td>16.62</td>\n",
       "      <td>254.4</td>\n",
       "      <td>103</td>\n",
       "      <td>11.45</td>\n",
       "      <td>13.7</td>\n",
       "      <td>3</td>\n",
       "      <td>3.70</td>\n",
       "      <td>1</td>\n",
       "      <td>False</td>\n",
       "    </tr>\n",
       "    <tr>\n",
       "      <th>2</th>\n",
       "      <td>NJ</td>\n",
       "      <td>137</td>\n",
       "      <td>415</td>\n",
       "      <td>358-1921</td>\n",
       "      <td>no</td>\n",
       "      <td>no</td>\n",
       "      <td>0</td>\n",
       "      <td>243.4</td>\n",
       "      <td>114</td>\n",
       "      <td>41.38</td>\n",
       "      <td>...</td>\n",
       "      <td>110</td>\n",
       "      <td>10.30</td>\n",
       "      <td>162.6</td>\n",
       "      <td>104</td>\n",
       "      <td>7.32</td>\n",
       "      <td>12.2</td>\n",
       "      <td>5</td>\n",
       "      <td>3.29</td>\n",
       "      <td>0</td>\n",
       "      <td>False</td>\n",
       "    </tr>\n",
       "    <tr>\n",
       "      <th>3</th>\n",
       "      <td>OH</td>\n",
       "      <td>84</td>\n",
       "      <td>408</td>\n",
       "      <td>375-9999</td>\n",
       "      <td>yes</td>\n",
       "      <td>no</td>\n",
       "      <td>0</td>\n",
       "      <td>299.4</td>\n",
       "      <td>71</td>\n",
       "      <td>50.90</td>\n",
       "      <td>...</td>\n",
       "      <td>88</td>\n",
       "      <td>5.26</td>\n",
       "      <td>196.9</td>\n",
       "      <td>89</td>\n",
       "      <td>8.86</td>\n",
       "      <td>6.6</td>\n",
       "      <td>7</td>\n",
       "      <td>1.78</td>\n",
       "      <td>2</td>\n",
       "      <td>False</td>\n",
       "    </tr>\n",
       "    <tr>\n",
       "      <th>4</th>\n",
       "      <td>OK</td>\n",
       "      <td>75</td>\n",
       "      <td>415</td>\n",
       "      <td>330-6626</td>\n",
       "      <td>yes</td>\n",
       "      <td>no</td>\n",
       "      <td>0</td>\n",
       "      <td>166.7</td>\n",
       "      <td>113</td>\n",
       "      <td>28.34</td>\n",
       "      <td>...</td>\n",
       "      <td>122</td>\n",
       "      <td>12.61</td>\n",
       "      <td>186.9</td>\n",
       "      <td>121</td>\n",
       "      <td>8.41</td>\n",
       "      <td>10.1</td>\n",
       "      <td>3</td>\n",
       "      <td>2.73</td>\n",
       "      <td>3</td>\n",
       "      <td>False</td>\n",
       "    </tr>\n",
       "  </tbody>\n",
       "</table>\n",
       "<p>5 rows × 21 columns</p>\n",
       "</div>"
      ],
      "text/plain": [
       "  state  account length  area code phone number international plan  \\\n",
       "0    KS             128        415     382-4657                 no   \n",
       "1    OH             107        415     371-7191                 no   \n",
       "2    NJ             137        415     358-1921                 no   \n",
       "3    OH              84        408     375-9999                yes   \n",
       "4    OK              75        415     330-6626                yes   \n",
       "\n",
       "  voice mail plan  number vmail messages  total day minutes  total day calls  \\\n",
       "0             yes                     25              265.1              110   \n",
       "1             yes                     26              161.6              123   \n",
       "2              no                      0              243.4              114   \n",
       "3              no                      0              299.4               71   \n",
       "4              no                      0              166.7              113   \n",
       "\n",
       "   total day charge  ...  total eve calls  total eve charge  \\\n",
       "0             45.07  ...               99             16.78   \n",
       "1             27.47  ...              103             16.62   \n",
       "2             41.38  ...              110             10.30   \n",
       "3             50.90  ...               88              5.26   \n",
       "4             28.34  ...              122             12.61   \n",
       "\n",
       "   total night minutes  total night calls  total night charge  \\\n",
       "0                244.7                 91               11.01   \n",
       "1                254.4                103               11.45   \n",
       "2                162.6                104                7.32   \n",
       "3                196.9                 89                8.86   \n",
       "4                186.9                121                8.41   \n",
       "\n",
       "   total intl minutes  total intl calls  total intl charge  \\\n",
       "0                10.0                 3               2.70   \n",
       "1                13.7                 3               3.70   \n",
       "2                12.2                 5               3.29   \n",
       "3                 6.6                 7               1.78   \n",
       "4                10.1                 3               2.73   \n",
       "\n",
       "   customer service calls  churn  \n",
       "0                       1  False  \n",
       "1                       1  False  \n",
       "2                       0  False  \n",
       "3                       2  False  \n",
       "4                       3  False  \n",
       "\n",
       "[5 rows x 21 columns]"
      ]
     },
     "execution_count": 2,
     "metadata": {},
     "output_type": "execute_result"
    }
   ],
   "source": [
    "# Import and inspect the data\n",
    "import pandas as pd\n",
    "df = pd.read_csv('data/telcom_data.csv')  \n",
    "df.head(5)"
   ]
  },
  {
   "cell_type": "code",
   "execution_count": 3,
   "metadata": {},
   "outputs": [
    {
     "data": {
      "text/plain": [
       "Index(['state', 'account length', 'area code', 'phone number',\n",
       "       'international plan', 'voice mail plan', 'number vmail messages',\n",
       "       'total day minutes', 'total day calls', 'total day charge',\n",
       "       'total eve minutes', 'total eve calls', 'total eve charge',\n",
       "       'total night minutes', 'total night calls', 'total night charge',\n",
       "       'total intl minutes', 'total intl calls', 'total intl charge',\n",
       "       'customer service calls', 'churn'],\n",
       "      dtype='object')"
      ]
     },
     "execution_count": 3,
     "metadata": {},
     "output_type": "execute_result"
    }
   ],
   "source": [
    "# Indentify and list the columns \n",
    "df.columns"
   ]
  },
  {
   "cell_type": "code",
   "execution_count": 4,
   "metadata": {},
   "outputs": [
    {
     "data": {
      "text/plain": [
       "(3333, 21)"
      ]
     },
     "execution_count": 4,
     "metadata": {},
     "output_type": "execute_result"
    }
   ],
   "source": [
    "df.shape"
   ]
  },
  {
   "cell_type": "code",
   "execution_count": 5,
   "metadata": {},
   "outputs": [
    {
     "name": "stdout",
     "output_type": "stream",
     "text": [
      "<class 'pandas.core.frame.DataFrame'>\n",
      "RangeIndex: 3333 entries, 0 to 3332\n",
      "Data columns (total 21 columns):\n",
      " #   Column                  Non-Null Count  Dtype  \n",
      "---  ------                  --------------  -----  \n",
      " 0   state                   3333 non-null   object \n",
      " 1   account length          3333 non-null   int64  \n",
      " 2   area code               3333 non-null   int64  \n",
      " 3   phone number            3333 non-null   object \n",
      " 4   international plan      3333 non-null   object \n",
      " 5   voice mail plan         3333 non-null   object \n",
      " 6   number vmail messages   3333 non-null   int64  \n",
      " 7   total day minutes       3333 non-null   float64\n",
      " 8   total day calls         3333 non-null   int64  \n",
      " 9   total day charge        3333 non-null   float64\n",
      " 10  total eve minutes       3333 non-null   float64\n",
      " 11  total eve calls         3333 non-null   int64  \n",
      " 12  total eve charge        3333 non-null   float64\n",
      " 13  total night minutes     3333 non-null   float64\n",
      " 14  total night calls       3333 non-null   int64  \n",
      " 15  total night charge      3333 non-null   float64\n",
      " 16  total intl minutes      3333 non-null   float64\n",
      " 17  total intl calls        3333 non-null   int64  \n",
      " 18  total intl charge       3333 non-null   float64\n",
      " 19  customer service calls  3333 non-null   int64  \n",
      " 20  churn                   3333 non-null   bool   \n",
      "dtypes: bool(1), float64(8), int64(8), object(4)\n",
      "memory usage: 524.2+ KB\n"
     ]
    }
   ],
   "source": [
    "#  Obtain a concise summary of the overall structure of dataframe\n",
    "df.info()"
   ]
  },
  {
   "cell_type": "code",
   "execution_count": 6,
   "metadata": {},
   "outputs": [
    {
     "data": {
      "text/plain": [
       "state                     0\n",
       "account length            0\n",
       "area code                 0\n",
       "phone number              0\n",
       "international plan        0\n",
       "voice mail plan           0\n",
       "number vmail messages     0\n",
       "total day minutes         0\n",
       "total day calls           0\n",
       "total day charge          0\n",
       "total eve minutes         0\n",
       "total eve calls           0\n",
       "total eve charge          0\n",
       "total night minutes       0\n",
       "total night calls         0\n",
       "total night charge        0\n",
       "total intl minutes        0\n",
       "total intl calls          0\n",
       "total intl charge         0\n",
       "customer service calls    0\n",
       "churn                     0\n",
       "dtype: int64"
      ]
     },
     "execution_count": 6,
     "metadata": {},
     "output_type": "execute_result"
    }
   ],
   "source": [
    "#Overview of the numerical features of the dataset\n",
    "df.isna().sum()"
   ]
  },
  {
   "cell_type": "markdown",
   "metadata": {},
   "source": [
    "# Summary of data structure \n",
    "- 3333 entries, 21 columns \n",
    "- dtypes: bool(1), float64(8), int64(8), object(4)\n",
    "- no missing data\n",
    "- Columns\n",
    "    - State                   \n",
    "    - Account length            \n",
    "    - Area code                 \n",
    "    - phone number              \n",
    "    - international plan        \n",
    "    - voice mail plan           \n",
    "    - number vmail messages     \n",
    "    - total day minutes         \n",
    "    - total day calls           \n",
    "    - total day charge          \n",
    "    - total eve minutes        \n",
    "    - total eve calls           \n",
    "    - total eve charge          \n",
    "    - total night minutes       \n",
    "    - total night calls         \n",
    "    - total night charge        \n",
    "    - total intl minutes        \n",
    "    - total intl calls          \n",
    "    - total intl charge         \n",
    "    - customer service calls    \n",
    "    - Churn* \n",
    "    \n",
    "  **Churn = the number of subscribers that leave the company** "
   ]
  },
  {
   "cell_type": "markdown",
   "metadata": {},
   "source": [
    "**To ensure a robust response to the business query and deliver practical recommendations:**\n",
    "\n",
    "* Prioritize analysis of customer behavior and their tendency to continue as subscribers of Syriatel.\n",
    "\n",
    "* Delve into  the data features for predictive patterns that can inform  resource allocation desicions. \n",
    "\n",
    "* Investigate telephone usage patterns and customer churn correlations.  \n",
    "\n",
    "* Assess market segmentation to align with the company's goals of enhancing subscriber retention\n"
   ]
  },
  {
   "cell_type": "code",
   "execution_count": 7,
   "metadata": {},
   "outputs": [],
   "source": [
    "# Convert data type to int\n",
    "df['churn']= df['churn'].astype('int')\n",
    "#converting 'area code' datatype\n",
    "df[\"area code\"] = df[\"area code\"].astype(object)"
   ]
  },
  {
   "cell_type": "code",
   "execution_count": 8,
   "metadata": {},
   "outputs": [
    {
     "data": {
      "text/html": [
       "<div>\n",
       "<style scoped>\n",
       "    .dataframe tbody tr th:only-of-type {\n",
       "        vertical-align: middle;\n",
       "    }\n",
       "\n",
       "    .dataframe tbody tr th {\n",
       "        vertical-align: top;\n",
       "    }\n",
       "\n",
       "    .dataframe thead th {\n",
       "        text-align: right;\n",
       "    }\n",
       "</style>\n",
       "<table border=\"1\" class=\"dataframe\">\n",
       "  <thead>\n",
       "    <tr style=\"text-align: right;\">\n",
       "      <th></th>\n",
       "      <th>account length</th>\n",
       "      <th>area code</th>\n",
       "      <th>international plan</th>\n",
       "      <th>voice mail plan</th>\n",
       "      <th>number vmail messages</th>\n",
       "      <th>total day minutes</th>\n",
       "      <th>total day calls</th>\n",
       "      <th>total day charge</th>\n",
       "      <th>total eve minutes</th>\n",
       "      <th>total eve calls</th>\n",
       "      <th>total eve charge</th>\n",
       "      <th>total night minutes</th>\n",
       "      <th>total night calls</th>\n",
       "      <th>total night charge</th>\n",
       "      <th>total intl minutes</th>\n",
       "      <th>total intl calls</th>\n",
       "      <th>total intl charge</th>\n",
       "      <th>customer service calls</th>\n",
       "      <th>churn</th>\n",
       "    </tr>\n",
       "  </thead>\n",
       "  <tbody>\n",
       "    <tr>\n",
       "      <th>0</th>\n",
       "      <td>128</td>\n",
       "      <td>415</td>\n",
       "      <td>no</td>\n",
       "      <td>yes</td>\n",
       "      <td>25</td>\n",
       "      <td>265.1</td>\n",
       "      <td>110</td>\n",
       "      <td>45.07</td>\n",
       "      <td>197.4</td>\n",
       "      <td>99</td>\n",
       "      <td>16.78</td>\n",
       "      <td>244.7</td>\n",
       "      <td>91</td>\n",
       "      <td>11.01</td>\n",
       "      <td>10.0</td>\n",
       "      <td>3</td>\n",
       "      <td>2.70</td>\n",
       "      <td>1</td>\n",
       "      <td>0</td>\n",
       "    </tr>\n",
       "    <tr>\n",
       "      <th>1</th>\n",
       "      <td>107</td>\n",
       "      <td>415</td>\n",
       "      <td>no</td>\n",
       "      <td>yes</td>\n",
       "      <td>26</td>\n",
       "      <td>161.6</td>\n",
       "      <td>123</td>\n",
       "      <td>27.47</td>\n",
       "      <td>195.5</td>\n",
       "      <td>103</td>\n",
       "      <td>16.62</td>\n",
       "      <td>254.4</td>\n",
       "      <td>103</td>\n",
       "      <td>11.45</td>\n",
       "      <td>13.7</td>\n",
       "      <td>3</td>\n",
       "      <td>3.70</td>\n",
       "      <td>1</td>\n",
       "      <td>0</td>\n",
       "    </tr>\n",
       "    <tr>\n",
       "      <th>2</th>\n",
       "      <td>137</td>\n",
       "      <td>415</td>\n",
       "      <td>no</td>\n",
       "      <td>no</td>\n",
       "      <td>0</td>\n",
       "      <td>243.4</td>\n",
       "      <td>114</td>\n",
       "      <td>41.38</td>\n",
       "      <td>121.2</td>\n",
       "      <td>110</td>\n",
       "      <td>10.30</td>\n",
       "      <td>162.6</td>\n",
       "      <td>104</td>\n",
       "      <td>7.32</td>\n",
       "      <td>12.2</td>\n",
       "      <td>5</td>\n",
       "      <td>3.29</td>\n",
       "      <td>0</td>\n",
       "      <td>0</td>\n",
       "    </tr>\n",
       "    <tr>\n",
       "      <th>3</th>\n",
       "      <td>84</td>\n",
       "      <td>408</td>\n",
       "      <td>yes</td>\n",
       "      <td>no</td>\n",
       "      <td>0</td>\n",
       "      <td>299.4</td>\n",
       "      <td>71</td>\n",
       "      <td>50.90</td>\n",
       "      <td>61.9</td>\n",
       "      <td>88</td>\n",
       "      <td>5.26</td>\n",
       "      <td>196.9</td>\n",
       "      <td>89</td>\n",
       "      <td>8.86</td>\n",
       "      <td>6.6</td>\n",
       "      <td>7</td>\n",
       "      <td>1.78</td>\n",
       "      <td>2</td>\n",
       "      <td>0</td>\n",
       "    </tr>\n",
       "    <tr>\n",
       "      <th>4</th>\n",
       "      <td>75</td>\n",
       "      <td>415</td>\n",
       "      <td>yes</td>\n",
       "      <td>no</td>\n",
       "      <td>0</td>\n",
       "      <td>166.7</td>\n",
       "      <td>113</td>\n",
       "      <td>28.34</td>\n",
       "      <td>148.3</td>\n",
       "      <td>122</td>\n",
       "      <td>12.61</td>\n",
       "      <td>186.9</td>\n",
       "      <td>121</td>\n",
       "      <td>8.41</td>\n",
       "      <td>10.1</td>\n",
       "      <td>3</td>\n",
       "      <td>2.73</td>\n",
       "      <td>3</td>\n",
       "      <td>0</td>\n",
       "    </tr>\n",
       "  </tbody>\n",
       "</table>\n",
       "</div>"
      ],
      "text/plain": [
       "   account length area code international plan voice mail plan  \\\n",
       "0             128       415                 no             yes   \n",
       "1             107       415                 no             yes   \n",
       "2             137       415                 no              no   \n",
       "3              84       408                yes              no   \n",
       "4              75       415                yes              no   \n",
       "\n",
       "   number vmail messages  total day minutes  total day calls  \\\n",
       "0                     25              265.1              110   \n",
       "1                     26              161.6              123   \n",
       "2                      0              243.4              114   \n",
       "3                      0              299.4               71   \n",
       "4                      0              166.7              113   \n",
       "\n",
       "   total day charge  total eve minutes  total eve calls  total eve charge  \\\n",
       "0             45.07              197.4               99             16.78   \n",
       "1             27.47              195.5              103             16.62   \n",
       "2             41.38              121.2              110             10.30   \n",
       "3             50.90               61.9               88              5.26   \n",
       "4             28.34              148.3              122             12.61   \n",
       "\n",
       "   total night minutes  total night calls  total night charge  \\\n",
       "0                244.7                 91               11.01   \n",
       "1                254.4                103               11.45   \n",
       "2                162.6                104                7.32   \n",
       "3                196.9                 89                8.86   \n",
       "4                186.9                121                8.41   \n",
       "\n",
       "   total intl minutes  total intl calls  total intl charge  \\\n",
       "0                10.0                 3               2.70   \n",
       "1                13.7                 3               3.70   \n",
       "2                12.2                 5               3.29   \n",
       "3                 6.6                 7               1.78   \n",
       "4                10.1                 3               2.73   \n",
       "\n",
       "   customer service calls  churn  \n",
       "0                       1      0  \n",
       "1                       1      0  \n",
       "2                       0      0  \n",
       "3                       2      0  \n",
       "4                       3      0  "
      ]
     },
     "execution_count": 8,
     "metadata": {},
     "output_type": "execute_result"
    }
   ],
   "source": [
    "# Drop unneccesary columns\n",
    "df.drop(['phone number','state' ], axis =1, inplace=True)\n",
    "df.head(5)"
   ]
  },
  {
   "cell_type": "markdown",
   "metadata": {},
   "source": [
    "**Variables Distribution Analysis**\n"
   ]
  },
  {
   "cell_type": "code",
   "execution_count": 9,
   "metadata": {},
   "outputs": [
    {
     "data": {
      "text/plain": [
       "0    2850\n",
       "1     483\n",
       "Name: churn, dtype: int64"
      ]
     },
     "execution_count": 9,
     "metadata": {},
     "output_type": "execute_result"
    }
   ],
   "source": [
    "# Churn Distribution Analysis\n",
    "churn_count=df['churn'].value_counts()\n",
    "churn_count"
   ]
  },
  {
   "cell_type": "code",
   "execution_count": 10,
   "metadata": {},
   "outputs": [
    {
     "name": "stdout",
     "output_type": "stream",
     "text": [
      "Churn Rate: 0.14491449144914492\n"
     ]
    }
   ],
   "source": [
    "# Calculate churn rate\n",
    "num_churned = df['churn'].sum()\n",
    "total_customers = len(df)\n",
    "\n",
    "churn_rate = num_churned / total_customers\n",
    "\n",
    "print(f\"Churn Rate: {churn_rate}\")"
   ]
  },
  {
   "cell_type": "code",
   "execution_count": 11,
   "metadata": {},
   "outputs": [
    {
     "data": {
      "image/png": "[encoded data removed]",
      "text/plain": [
       "<Figure size 720x360 with 1 Axes>"
      ]
     },
     "metadata": {
      "needs_background": "light"
     },
     "output_type": "display_data"
    }
   ],
   "source": [
    "  # Create the bar chart\n",
    "plt.figure(figsize=(10, 5))\n",
    "bars = plt.bar(churn_count.index, churn_count.values, color=['blue', 'red'])\n",
    "\n",
    "# Add text labels on the bars\n",
    "for bar in bars:\n",
    "    yval = bar.get_height()\n",
    "    plt.text(bar.get_x() + bar.get_width() / 2, yval, '%d' % yval, va='bottom', ha='center')\n",
    "\n",
    "plt.title('Customer Churn Distribution Analysis')\n",
    "plt.xlabel('Churn Status')\n",
    "plt.ylabel('Number of Customers')\n",
    "plt.show()\n"
   ]
  },
  {
   "cell_type": "markdown",
   "metadata": {},
   "source": [
    "**Churn Distribution Analysis**\n",
    "* 483 instances labeled as \"1\"  (churned) is significantly lower than those labeled as \"0\" (2850) (not churned), this indicating a class imbalance in the churn variable\n",
    "* SyriaTel has a churn rate of 14.49% \n",
    "\n",
    "Business Implication \n",
    "\n",
    "* negatively impact Monthly Recurring Revenue (MRR)\n",
    "* indicative of  dissatisfaction with the  service\n",
    "* failure to renew subscription (subscription model)\n",
    "\n",
    "Modeling Implication \n",
    "\n",
    "* This imbalance can affect the performance of machine learning models\n",
    "* The business problems require classifiers, these are sensitive to class distribution.\n",
    "\n",
    "To address the imbalance issues resampling such as SMOTE will be considered"
   ]
  },
  {
   "cell_type": "code",
   "execution_count": 12,
   "metadata": {
    "scrolled": true
   },
   "outputs": [
    {
     "data": {
      "image/png": "[encoded data removed]",
      "text/plain": [
       "<Figure size 720x360 with 1 Axes>"
      ]
     },
     "metadata": {},
     "output_type": "display_data"
    }
   ],
   "source": [
    "# Area Code Distribution Analysis\n",
    "# Create plot\n",
    "area_code = df['area code'].value_counts()\n",
    "\n",
    "# Create plot\n",
    "plt.figure(figsize=(10, 5))\n",
    "area_code.plot(kind='pie', autopct='%1.1f%%')  \n",
    "plt.title('Area Code Distribution Analysis')\n",
    "plt.ylabel('')  \n",
    "\n",
    "# Show the plot\n",
    "plt.show()\n"
   ]
  },
  {
   "cell_type": "markdown",
   "metadata": {},
   "source": [
    "**Area Code Distribution Analysis**\n",
    "- 49.7% almost half of the customers are from 415 area code\n",
    "- 25% of the customers are in area code 510 and another 25% in area code 408"
   ]
  },
  {
   "cell_type": "code",
   "execution_count": 13,
   "metadata": {},
   "outputs": [
    {
     "data": {
      "text/plain": [
       "Text(0.5, 1.0, 'Customer Service Calls Area Code Churn')"
      ]
     },
     "execution_count": 13,
     "metadata": {},
     "output_type": "execute_result"
    },
    {
     "data": {
      "image/png": "[encoded data removed]",
      "text/plain": [
       "<Figure size 1008x360 with 1 Axes>"
      ]
     },
     "metadata": {
      "needs_background": "light"
     },
     "output_type": "display_data"
    }
   ],
   "source": [
    "# Boxplot to see which area code has the highest churn\n",
    "plt.figure(figsize=(14,5))\n",
    "sns.boxplot(data=df,x='churn',y='customer service calls',hue='area code');\n",
    "plt.legend(loc='upper right');\n",
    "plt.title('Customer Service Calls Area Code Churn' )"
   ]
  },
  {
   "cell_type": "markdown",
   "metadata": {},
   "source": [
    "**Customer Service Calls Churn Analysis**\n",
    "* Customers who did not churn tend to have fewer customer service calls (median 1 to 2 calls)  across  area codes 408, 415, and 510.\n",
    "* Customers who churned show a higher number of customer service calls (median 2 to 3 calls) in all area codes. \n",
    "* Customers who make more service calls are more likely to churn\n",
    "* Variablity is evident in not churn and churn customers(length of whiskers)\n",
    "* More outliers in the churned group especially in the 408 area code\n",
    "\n",
    "Business implication \n",
    "* Mitigate churn utilizing  proactive intervention strategies\n",
    "* Opportunity to improve customer support "
   ]
  },
  {
   "cell_type": "code",
   "execution_count": 14,
   "metadata": {},
   "outputs": [
    {
     "data": {
      "text/plain": [
       "international plan  churn\n",
       "no                  0        2664\n",
       "                    1         346\n",
       "yes                 0         186\n",
       "                    1         137\n",
       "dtype: int64"
      ]
     },
     "execution_count": 14,
     "metadata": {},
     "output_type": "execute_result"
    }
   ],
   "source": [
    "# International Subscribers  Churn  Distribution\n",
    "intl_plan_churn= df[['international plan', 'churn']].value_counts()\n",
    "intl_plan_churn"
   ]
  },
  {
   "cell_type": "code",
   "execution_count": 15,
   "metadata": {},
   "outputs": [
    {
     "data": {
      "text/plain": [
       "<Figure size 720x360 with 0 Axes>"
      ]
     },
     "metadata": {},
     "output_type": "display_data"
    },
    {
     "data": {
      "image/png": "[encoded data removed]",
      "text/plain": [
       "<Figure size 432x288 with 1 Axes>"
      ]
     },
     "metadata": {
      "needs_background": "light"
     },
     "output_type": "display_data"
    }
   ],
   "source": [
    "# Create a cross-tabulation\n",
    "intl_plan_churn = pd.crosstab(index=df['international plan'], columns=df['churn'])\n",
    "\n",
    "# Create plot\n",
    "plt.figure(figsize=(10, 5))\n",
    "intl_plan_churn.plot(kind='bar', color=['blue', 'orange'], stacked=False)  \n",
    "plt.title('International Subscribers Churn Distribution Analysis')\n",
    "plt.xlabel('International Subscriber Status')\n",
    "plt.ylabel('Number of Customers')\n",
    "plt.xticks(rotation=0)  \n",
    "plt.legend(title='Churn', labels=['No', 'Yes'])  \n",
    "plt.tight_layout() "
   ]
  },
  {
   "cell_type": "markdown",
   "metadata": {},
   "source": [
    "**International Subscribers  Churn  Distribution**\n",
    "\n",
    "* Out of the 3333 subscribers only 346 has an international plan about 10.38%\n",
    "\n",
    "* 39.56% of international plans subscribers terminate the service "
   ]
  },
  {
   "cell_type": "code",
   "execution_count": 16,
   "metadata": {},
   "outputs": [],
   "source": [
    "# Customer Loyalty Churn Analysis\n",
    "account_len_churn= df[['account length', 'churn']].value_counts()\n"
   ]
  },
  {
   "cell_type": "code",
   "execution_count": 17,
   "metadata": {
    "scrolled": true
   },
   "outputs": [
    {
     "data": {
      "image/png": "[encoded data removed]",
      "text/plain": [
       "<Figure size 720x432 with 1 Axes>"
      ]
     },
     "metadata": {
      "needs_background": "light"
     },
     "output_type": "display_data"
    }
   ],
   "source": [
    "# Visualize the distribution \n",
    "# Calculate the frequency of each 'account length' and 'churn' combination\n",
    "account_len_churn = df.groupby(['account length', 'churn']).size().reset_index(name='frequency')\n",
    "\n",
    "# Define bins and labels 'account length' binning\n",
    "bins = [0, 50, 100, 150, 200, 250]\n",
    "labels = ['0-50', '51-100', '101-150', '151-200', '201-250']\n",
    "\n",
    "# Add the binned 'account length' in a new DataFrame\n",
    "account_len_churn['length_bins'] = pd.cut(account_len_churn['account length'], bins=bins, labels=labels)\n",
    "\n",
    "# Aggregate the frequency data by bins and churn status\n",
    "bin_counts = account_len_churn.groupby(['length_bins', 'churn'])['frequency'].sum().reset_index()\n",
    "\n",
    "# Plot\n",
    "plt.figure(figsize=(10, 6))\n",
    "sns.barplot(data=bin_counts, x='length_bins', y='frequency', hue='churn')\n",
    "plt.title('Customer Loyalty Churn Analysis')\n",
    "plt.xlabel('Account Length')\n",
    "plt.ylabel('Frequency of Churn')\n",
    "plt.show()\n"
   ]
  },
  {
   "cell_type": "markdown",
   "metadata": {},
   "source": [
    "**Customer Loyalty Churn Analysis**\n",
    "* Customer Loyalty= Account length,  how long customers has been with SyriaTel\n",
    "* high risk groups identified for customer duration between 51- 150\n",
    "* account lengths decline significantly after 150 days\n"
   ]
  },
  {
   "cell_type": "code",
   "execution_count": 18,
   "metadata": {},
   "outputs": [
    {
     "data": {
      "text/plain": [
       "voice mail plan  churn\n",
       "no               0        2008\n",
       "yes              0         842\n",
       "no               1         403\n",
       "yes              1          80\n",
       "dtype: int64"
      ]
     },
     "execution_count": 18,
     "metadata": {},
     "output_type": "execute_result"
    }
   ],
   "source": [
    "# Voice Mail Subscribers  Churn  Distribution\n",
    "vm_plan_churn= df[['voice mail plan', 'churn']].value_counts()\n",
    "vm_plan_churn"
   ]
  },
  {
   "cell_type": "code",
   "execution_count": 19,
   "metadata": {},
   "outputs": [
    {
     "data": {
      "text/plain": [
       "<Figure size 720x360 with 0 Axes>"
      ]
     },
     "metadata": {},
     "output_type": "display_data"
    },
    {
     "data": {
      "image/png": "[encoded data removed]",
      "text/plain": [
       "<Figure size 432x288 with 1 Axes>"
      ]
     },
     "metadata": {
      "needs_background": "light"
     },
     "output_type": "display_data"
    }
   ],
   "source": [
    "# Visualize voice mail plan and churn status \n",
    "vm_plan_churn = pd.crosstab(index=df['voice mail plan'], columns=df['churn'])\n",
    "\n",
    "# Create plot\n",
    "plt.figure(figsize=(10, 5))\n",
    "vm_plan_churn.plot(kind='bar', color=['blue', 'red'], stacked=False)  \n",
    "plt.title('VM Plan Subscribers Churn Distribution Analysis')\n",
    "plt.xlabel('VM Plan Subscriber Status')\n",
    "plt.ylabel('Number of Customers')\n",
    "plt.xticks(rotation=0)  \n",
    "plt.legend(title='Churn', labels=['No', 'Yes'])  \n",
    "plt.tight_layout()  "
   ]
  },
  {
   "cell_type": "markdown",
   "metadata": {},
   "source": [
    "**Voice Mail Subscribers  Churn  Distribution**\n",
    "\n",
    "- For customers without a voice mail plan: Churn percentage = 16.73%\n",
    "\n",
    "- For customers with a voice mail plan: Churn percentage = 8.67%"
   ]
  },
  {
   "cell_type": "markdown",
   "metadata": {},
   "source": [
    "**Usage Churn  Analysis**"
   ]
  },
  {
   "cell_type": "code",
   "execution_count": 20,
   "metadata": {},
   "outputs": [
    {
     "data": {
      "text/plain": [
       "total day charge    101864.17\n",
       "churn                  483.00\n",
       "dtype: float64"
      ]
     },
     "execution_count": 20,
     "metadata": {},
     "output_type": "execute_result"
    }
   ],
   "source": [
    "daytime_churn= df[['total day charge', 'churn']].sum()\n",
    "daytime_churn"
   ]
  },
  {
   "cell_type": "code",
   "execution_count": 21,
   "metadata": {},
   "outputs": [
    {
     "name": "stdout",
     "output_type": "stream",
     "text": [
      "Churn counts:\n",
      "0    2850\n",
      "1     483\n",
      "Name: churn, dtype: int64\n",
      "Total Day Charge by churn status:\n",
      "churn\n",
      "0    84874.20\n",
      "1    16989.97\n",
      "Name: total day charge, dtype: float64\n",
      "Total Evening Charge by churn status:\n",
      "churn\n",
      "0    48218.89\n",
      "1     8720.55\n",
      "Name: total eve charge, dtype: float64\n",
      "Total Night Charge by churn status:\n",
      "churn\n",
      "0    25667.31\n",
      "1     4460.76\n",
      "Name: total night charge, dtype: float64\n"
     ]
    }
   ],
   "source": [
    "churn_counts = df['churn'].value_counts()\n",
    "\n",
    "# Calculate the sum of total day, evening and night  charge,  for churned and non-churned customers\n",
    "daytime_churn = df.groupby('churn')['total day charge'].sum()\n",
    "eveningtime_churn = df.groupby('churn')['total eve charge'].sum()\n",
    "nighttime_churn = df.groupby('churn')['total night charge'].sum()\n",
    "# Print the counts and the sums\n",
    "print(f\"Churn counts:\\n{churn_counts}\")\n",
    "print(f\"Total Day Charge by churn status:\\n{daytime_churn}\")\n",
    "print(f\"Total Evening Charge by churn status:\\n{eveningtime_churn}\")\n",
    "print(f\"Total Night Charge by churn status:\\n{nighttime_churn}\")"
   ]
  },
  {
   "cell_type": "code",
   "execution_count": 22,
   "metadata": {},
   "outputs": [
    {
     "name": "stdout",
     "output_type": "stream",
     "text": [
      "Evening rate: 0.08500506585612969\n",
      "Night rate: 0.044993870044953005\n",
      "Day rate: 0.1700113164843455\n"
     ]
    },
    {
     "data": {
      "image/png": "[encoded data removed]",
      "text/plain": [
       "<Figure size 720x432 with 1 Axes>"
      ]
     },
     "metadata": {
      "needs_background": "light"
     },
     "output_type": "display_data"
    }
   ],
   "source": [
    "# Compare churn and telephone charges across different times of the day.\n",
    "#Create rates\n",
    "eve_rate = df['total eve charge'] / df['total eve minutes']\n",
    "intl_rate = df['total night charge'] / df['total night minutes']\n",
    "day_rate = df['total day charge'] / df['total day minutes']\n",
    "print(f\"Evening rate: {eve_rate [0]}\")\n",
    "print(f\"Night rate: {intl_rate [0]}\")\n",
    "print(f\"Day rate: {day_rate [0]}\")\n",
    "\n",
    "# Create KDE plots\n",
    "plt.figure(figsize=(10, 6))\n",
    "sns.kdeplot(data=df, x='total day charge', hue='churn', fill=True, palette=\"cool\", common_norm=False, alpha=0.6,  label='Total Day Charge')\n",
    "sns.kdeplot(data=df, x='total eve charge', hue='churn', fill=True, palette=\"spring\", common_norm=False, alpha=0.6,  label='Total Eve Charge')\n",
    "sns.kdeplot(data=df, x='total night charge', hue='churn', fill=True, palette=\"cool\", common_norm=False, alpha=0.6,  label='Total Night Charge')\n",
    "\n",
    "plt.title('Comparison of KDEs for Charges by Churn Status')\n",
    "plt.xlabel('Charge Amount')\n",
    "plt.ylabel('Density')\n",
    "plt.legend(title='Charges and Churn Status')\n",
    "plt.show()\n",
    "    "
   ]
  },
  {
   "cell_type": "markdown",
   "metadata": {},
   "source": [
    "**Day Usage Churn**\n",
    "\n",
    "- Bimodal distribution for both churned and non-churned customers\n",
    "- Churned customers have two distinctive peaks indicating different customer behavior within the subset\n",
    "- Overlapping of churn and non-churn indicating the subsets may share similar caharecteristics\n",
    "- Day rate = 0.17\n",
    "\n",
    "**Evening Usage Churn**\n",
    "\n",
    "- Non-churned has a peak that is slightly left compared to the peak of the distribution for churned customers .\n",
    "- Non-churned has a tail that extends further to the right, suggesting higher total evening charge for some non-churned customers.\n",
    "- Churned distribution tapers off more quickly, indicating that higher total evening charges are less common for churned customers.\n",
    "- Evening  rate = 0.085\n",
    "\n",
    "**Night Usage Churn**\n",
    "\n",
    "- High degree of overlapping suggesting feature is not distinguishing churn and not-churn\n",
    "- This variable may not be a strong predictor of churn\n",
    "-  Day rate = 0.045"
   ]
  },
  {
   "cell_type": "code",
   "execution_count": 23,
   "metadata": {},
   "outputs": [
    {
     "data": {
      "image/png": "[encoded data removed]",
      "text/plain": [
       "<Figure size 720x576 with 2 Axes>"
      ]
     },
     "metadata": {
      "needs_background": "light"
     },
     "output_type": "display_data"
    }
   ],
   "source": [
    "# Features correlation analysis\n",
    "# Visualize the correlation between variables\n",
    "corr_matrix =df.corr()\n",
    " # Generate a mask to only show the bottom triangle\n",
    "corr_matrix= corr_matrix.where(np.tril(np.ones(corr_matrix.shape)).astype(np.bool))\n",
    "# Plot \n",
    "plt.figure(figsize=(10, 8))  \n",
    "sns.heatmap(corr_matrix, annot=True, fmt=\".2f\", cmap='coolwarm', cbar=True,  linewidths=0.5)\n",
    "plt.title('Correlation of Features')  \n",
    "plt.show()"
   ]
  },
  {
   "cell_type": "markdown",
   "metadata": {},
   "source": [
    "**Features Correlation Analysis**\n",
    "* The correlation values for **churn** seems to fall  below 0.3 for all features. \n",
    "* Multiple variables are uncorrelated \n",
    "\n",
    "The following are perfectly corrrelated due to the direct relationship between charge and usage minutes\n",
    "* Total intl charge and total intl minutes\n",
    "* Total night charge and total night minutes\n",
    "* Total eve charge and total eve minutes\n",
    "* Total day charge and total day minutes\n"
   ]
  },
  {
   "cell_type": "code",
   "execution_count": 24,
   "metadata": {},
   "outputs": [
    {
     "name": "stdout",
     "output_type": "stream",
     "text": [
      "<class 'pandas.core.frame.DataFrame'>\n",
      "RangeIndex: 3333 entries, 0 to 3332\n",
      "Data columns (total 19 columns):\n",
      " #   Column                  Non-Null Count  Dtype  \n",
      "---  ------                  --------------  -----  \n",
      " 0   account length          3333 non-null   int64  \n",
      " 1   area code               3333 non-null   object \n",
      " 2   international plan      3333 non-null   object \n",
      " 3   voice mail plan         3333 non-null   object \n",
      " 4   number vmail messages   3333 non-null   int64  \n",
      " 5   total day minutes       3333 non-null   float64\n",
      " 6   total day calls         3333 non-null   int64  \n",
      " 7   total day charge        3333 non-null   float64\n",
      " 8   total eve minutes       3333 non-null   float64\n",
      " 9   total eve calls         3333 non-null   int64  \n",
      " 10  total eve charge        3333 non-null   float64\n",
      " 11  total night minutes     3333 non-null   float64\n",
      " 12  total night calls       3333 non-null   int64  \n",
      " 13  total night charge      3333 non-null   float64\n",
      " 14  total intl minutes      3333 non-null   float64\n",
      " 15  total intl calls        3333 non-null   int64  \n",
      " 16  total intl charge       3333 non-null   float64\n",
      " 17  customer service calls  3333 non-null   int64  \n",
      " 18  churn                   3333 non-null   int32  \n",
      "dtypes: float64(8), int32(1), int64(7), object(3)\n",
      "memory usage: 481.8+ KB\n"
     ]
    }
   ],
   "source": [
    "df.info()"
   ]
  },
  {
   "cell_type": "markdown",
   "metadata": {},
   "source": [
    "# Preprocessing\n",
    "\n",
    "Prepare data for modeling"
   ]
  },
  {
   "cell_type": "code",
   "execution_count": 25,
   "metadata": {},
   "outputs": [
    {
     "data": {
      "text/html": [
       "<div>\n",
       "<style scoped>\n",
       "    .dataframe tbody tr th:only-of-type {\n",
       "        vertical-align: middle;\n",
       "    }\n",
       "\n",
       "    .dataframe tbody tr th {\n",
       "        vertical-align: top;\n",
       "    }\n",
       "\n",
       "    .dataframe thead th {\n",
       "        text-align: right;\n",
       "    }\n",
       "</style>\n",
       "<table border=\"1\" class=\"dataframe\">\n",
       "  <thead>\n",
       "    <tr style=\"text-align: right;\">\n",
       "      <th></th>\n",
       "      <th>total day minutes</th>\n",
       "      <th>total day charge</th>\n",
       "      <th>total eve minutes</th>\n",
       "      <th>total eve charge</th>\n",
       "      <th>total night minutes</th>\n",
       "      <th>total night charge</th>\n",
       "      <th>total intl minutes</th>\n",
       "      <th>total intl charge</th>\n",
       "      <th>churn</th>\n",
       "      <th>area code_408</th>\n",
       "      <th>area code_415</th>\n",
       "      <th>area code_510</th>\n",
       "      <th>international plan_no</th>\n",
       "      <th>international plan_yes</th>\n",
       "      <th>voice mail plan_no</th>\n",
       "      <th>voice mail plan_yes</th>\n",
       "    </tr>\n",
       "  </thead>\n",
       "  <tbody>\n",
       "    <tr>\n",
       "      <th>0</th>\n",
       "      <td>265.1</td>\n",
       "      <td>45.07</td>\n",
       "      <td>197.4</td>\n",
       "      <td>16.78</td>\n",
       "      <td>244.7</td>\n",
       "      <td>11.01</td>\n",
       "      <td>10.0</td>\n",
       "      <td>2.70</td>\n",
       "      <td>0</td>\n",
       "      <td>0</td>\n",
       "      <td>1</td>\n",
       "      <td>0</td>\n",
       "      <td>1</td>\n",
       "      <td>0</td>\n",
       "      <td>0</td>\n",
       "      <td>1</td>\n",
       "    </tr>\n",
       "    <tr>\n",
       "      <th>1</th>\n",
       "      <td>161.6</td>\n",
       "      <td>27.47</td>\n",
       "      <td>195.5</td>\n",
       "      <td>16.62</td>\n",
       "      <td>254.4</td>\n",
       "      <td>11.45</td>\n",
       "      <td>13.7</td>\n",
       "      <td>3.70</td>\n",
       "      <td>0</td>\n",
       "      <td>0</td>\n",
       "      <td>1</td>\n",
       "      <td>0</td>\n",
       "      <td>1</td>\n",
       "      <td>0</td>\n",
       "      <td>0</td>\n",
       "      <td>1</td>\n",
       "    </tr>\n",
       "    <tr>\n",
       "      <th>2</th>\n",
       "      <td>243.4</td>\n",
       "      <td>41.38</td>\n",
       "      <td>121.2</td>\n",
       "      <td>10.30</td>\n",
       "      <td>162.6</td>\n",
       "      <td>7.32</td>\n",
       "      <td>12.2</td>\n",
       "      <td>3.29</td>\n",
       "      <td>0</td>\n",
       "      <td>0</td>\n",
       "      <td>1</td>\n",
       "      <td>0</td>\n",
       "      <td>1</td>\n",
       "      <td>0</td>\n",
       "      <td>1</td>\n",
       "      <td>0</td>\n",
       "    </tr>\n",
       "    <tr>\n",
       "      <th>3</th>\n",
       "      <td>299.4</td>\n",
       "      <td>50.90</td>\n",
       "      <td>61.9</td>\n",
       "      <td>5.26</td>\n",
       "      <td>196.9</td>\n",
       "      <td>8.86</td>\n",
       "      <td>6.6</td>\n",
       "      <td>1.78</td>\n",
       "      <td>0</td>\n",
       "      <td>1</td>\n",
       "      <td>0</td>\n",
       "      <td>0</td>\n",
       "      <td>0</td>\n",
       "      <td>1</td>\n",
       "      <td>1</td>\n",
       "      <td>0</td>\n",
       "    </tr>\n",
       "    <tr>\n",
       "      <th>4</th>\n",
       "      <td>166.7</td>\n",
       "      <td>28.34</td>\n",
       "      <td>148.3</td>\n",
       "      <td>12.61</td>\n",
       "      <td>186.9</td>\n",
       "      <td>8.41</td>\n",
       "      <td>10.1</td>\n",
       "      <td>2.73</td>\n",
       "      <td>0</td>\n",
       "      <td>0</td>\n",
       "      <td>1</td>\n",
       "      <td>0</td>\n",
       "      <td>0</td>\n",
       "      <td>1</td>\n",
       "      <td>1</td>\n",
       "      <td>0</td>\n",
       "    </tr>\n",
       "    <tr>\n",
       "      <th>...</th>\n",
       "      <td>...</td>\n",
       "      <td>...</td>\n",
       "      <td>...</td>\n",
       "      <td>...</td>\n",
       "      <td>...</td>\n",
       "      <td>...</td>\n",
       "      <td>...</td>\n",
       "      <td>...</td>\n",
       "      <td>...</td>\n",
       "      <td>...</td>\n",
       "      <td>...</td>\n",
       "      <td>...</td>\n",
       "      <td>...</td>\n",
       "      <td>...</td>\n",
       "      <td>...</td>\n",
       "      <td>...</td>\n",
       "    </tr>\n",
       "    <tr>\n",
       "      <th>3328</th>\n",
       "      <td>156.2</td>\n",
       "      <td>26.55</td>\n",
       "      <td>215.5</td>\n",
       "      <td>18.32</td>\n",
       "      <td>279.1</td>\n",
       "      <td>12.56</td>\n",
       "      <td>9.9</td>\n",
       "      <td>2.67</td>\n",
       "      <td>0</td>\n",
       "      <td>0</td>\n",
       "      <td>1</td>\n",
       "      <td>0</td>\n",
       "      <td>1</td>\n",
       "      <td>0</td>\n",
       "      <td>0</td>\n",
       "      <td>1</td>\n",
       "    </tr>\n",
       "    <tr>\n",
       "      <th>3329</th>\n",
       "      <td>231.1</td>\n",
       "      <td>39.29</td>\n",
       "      <td>153.4</td>\n",
       "      <td>13.04</td>\n",
       "      <td>191.3</td>\n",
       "      <td>8.61</td>\n",
       "      <td>9.6</td>\n",
       "      <td>2.59</td>\n",
       "      <td>0</td>\n",
       "      <td>0</td>\n",
       "      <td>1</td>\n",
       "      <td>0</td>\n",
       "      <td>1</td>\n",
       "      <td>0</td>\n",
       "      <td>1</td>\n",
       "      <td>0</td>\n",
       "    </tr>\n",
       "    <tr>\n",
       "      <th>3330</th>\n",
       "      <td>180.8</td>\n",
       "      <td>30.74</td>\n",
       "      <td>288.8</td>\n",
       "      <td>24.55</td>\n",
       "      <td>191.9</td>\n",
       "      <td>8.64</td>\n",
       "      <td>14.1</td>\n",
       "      <td>3.81</td>\n",
       "      <td>0</td>\n",
       "      <td>0</td>\n",
       "      <td>0</td>\n",
       "      <td>1</td>\n",
       "      <td>1</td>\n",
       "      <td>0</td>\n",
       "      <td>1</td>\n",
       "      <td>0</td>\n",
       "    </tr>\n",
       "    <tr>\n",
       "      <th>3331</th>\n",
       "      <td>213.8</td>\n",
       "      <td>36.35</td>\n",
       "      <td>159.6</td>\n",
       "      <td>13.57</td>\n",
       "      <td>139.2</td>\n",
       "      <td>6.26</td>\n",
       "      <td>5.0</td>\n",
       "      <td>1.35</td>\n",
       "      <td>0</td>\n",
       "      <td>0</td>\n",
       "      <td>0</td>\n",
       "      <td>1</td>\n",
       "      <td>0</td>\n",
       "      <td>1</td>\n",
       "      <td>1</td>\n",
       "      <td>0</td>\n",
       "    </tr>\n",
       "    <tr>\n",
       "      <th>3332</th>\n",
       "      <td>234.4</td>\n",
       "      <td>39.85</td>\n",
       "      <td>265.9</td>\n",
       "      <td>22.60</td>\n",
       "      <td>241.4</td>\n",
       "      <td>10.86</td>\n",
       "      <td>13.7</td>\n",
       "      <td>3.70</td>\n",
       "      <td>0</td>\n",
       "      <td>0</td>\n",
       "      <td>1</td>\n",
       "      <td>0</td>\n",
       "      <td>1</td>\n",
       "      <td>0</td>\n",
       "      <td>0</td>\n",
       "      <td>1</td>\n",
       "    </tr>\n",
       "  </tbody>\n",
       "</table>\n",
       "<p>3333 rows × 16 columns</p>\n",
       "</div>"
      ],
      "text/plain": [
       "      total day minutes  total day charge  total eve minutes  \\\n",
       "0                 265.1             45.07              197.4   \n",
       "1                 161.6             27.47              195.5   \n",
       "2                 243.4             41.38              121.2   \n",
       "3                 299.4             50.90               61.9   \n",
       "4                 166.7             28.34              148.3   \n",
       "...                 ...               ...                ...   \n",
       "3328              156.2             26.55              215.5   \n",
       "3329              231.1             39.29              153.4   \n",
       "3330              180.8             30.74              288.8   \n",
       "3331              213.8             36.35              159.6   \n",
       "3332              234.4             39.85              265.9   \n",
       "\n",
       "      total eve charge  total night minutes  total night charge  \\\n",
       "0                16.78                244.7               11.01   \n",
       "1                16.62                254.4               11.45   \n",
       "2                10.30                162.6                7.32   \n",
       "3                 5.26                196.9                8.86   \n",
       "4                12.61                186.9                8.41   \n",
       "...                ...                  ...                 ...   \n",
       "3328             18.32                279.1               12.56   \n",
       "3329             13.04                191.3                8.61   \n",
       "3330             24.55                191.9                8.64   \n",
       "3331             13.57                139.2                6.26   \n",
       "3332             22.60                241.4               10.86   \n",
       "\n",
       "      total intl minutes  total intl charge  churn  area code_408  \\\n",
       "0                   10.0               2.70      0              0   \n",
       "1                   13.7               3.70      0              0   \n",
       "2                   12.2               3.29      0              0   \n",
       "3                    6.6               1.78      0              1   \n",
       "4                   10.1               2.73      0              0   \n",
       "...                  ...                ...    ...            ...   \n",
       "3328                 9.9               2.67      0              0   \n",
       "3329                 9.6               2.59      0              0   \n",
       "3330                14.1               3.81      0              0   \n",
       "3331                 5.0               1.35      0              0   \n",
       "3332                13.7               3.70      0              0   \n",
       "\n",
       "      area code_415  area code_510  international plan_no  \\\n",
       "0                 1              0                      1   \n",
       "1                 1              0                      1   \n",
       "2                 1              0                      1   \n",
       "3                 0              0                      0   \n",
       "4                 1              0                      0   \n",
       "...             ...            ...                    ...   \n",
       "3328              1              0                      1   \n",
       "3329              1              0                      1   \n",
       "3330              0              1                      1   \n",
       "3331              0              1                      0   \n",
       "3332              1              0                      1   \n",
       "\n",
       "      international plan_yes  voice mail plan_no  voice mail plan_yes  \n",
       "0                          0                   0                    1  \n",
       "1                          0                   0                    1  \n",
       "2                          0                   1                    0  \n",
       "3                          1                   1                    0  \n",
       "4                          1                   1                    0  \n",
       "...                      ...                 ...                  ...  \n",
       "3328                       0                   0                    1  \n",
       "3329                       0                   1                    0  \n",
       "3330                       0                   1                    0  \n",
       "3331                       1                   1                    0  \n",
       "3332                       0                   0                    1  \n",
       "\n",
       "[3333 rows x 16 columns]"
      ]
     },
     "execution_count": 25,
     "metadata": {},
     "output_type": "execute_result"
    }
   ],
   "source": [
    "# Create dummy variables\n",
    "# Separate numerical and categorical columns\n",
    "numerical_cols = df.select_dtypes(include=['int', 'float']).columns\n",
    "categorical_cols = df.select_dtypes(include=['object']).columns\n",
    "\n",
    "# Convert categorical columns into dummy variables\n",
    "dummies = pd.get_dummies(df[categorical_cols])\n",
    "\n",
    "# Concatenate dummy variables with numerical columns\n",
    "df_final = pd.concat([df[numerical_cols], dummies], axis=1)\n",
    "\n",
    "# Print the new DataFrame\n",
    "df_final"
   ]
  },
  {
   "cell_type": "markdown",
   "metadata": {},
   "source": [
    "## Create training and testing sets\n",
    "\n",
    "- Define the predictor and target variables\n",
    "- Perform a standard train-test split. \n",
    "- Assign 30% to the test set \n",
    "- Set random_state ensuring  that the split is reproducible"
   ]
  },
  {
   "cell_type": "code",
   "execution_count": 26,
   "metadata": {},
   "outputs": [],
   "source": [
    "# Create output and input variable\n",
    "y= df_final['churn']\n",
    "X= df_final.drop(['churn' ], axis=1)\n"
   ]
  },
  {
   "cell_type": "code",
   "execution_count": 27,
   "metadata": {},
   "outputs": [],
   "source": [
    "#Train test split\n",
    "X_train, X_test, y_train, y_test = train_test_split(X, y, test_size = 0.3, random_state = 42)"
   ]
  },
  {
   "cell_type": "markdown",
   "metadata": {},
   "source": [
    "**Evaluate class imbalance**\n"
   ]
  },
  {
   "cell_type": "code",
   "execution_count": 28,
   "metadata": {},
   "outputs": [
    {
     "name": "stdout",
     "output_type": "stream",
     "text": [
      "Train:\n",
      "\n",
      "0    1993\n",
      "1     340\n",
      "Name: churn, dtype: int64\n",
      "Test:\n",
      "\n",
      "0    857\n",
      "1    143\n",
      "Name: churn, dtype: int64\n"
     ]
    }
   ],
   "source": [
    "\n",
    "# Training set\n",
    "print('Train:\\n')\n",
    "print(y_train.value_counts())\n",
    "\n",
    "# Test set\n",
    "print('Test:\\n')\n",
    "print(y_test.value_counts())"
   ]
  },
  {
   "cell_type": "markdown",
   "metadata": {},
   "source": [
    "**Class Imbalance evaluation**\n",
    "- In the training set the proportion  of churned customers to not churned  is 340 to 1993\n",
    "- In the testing  set the proportion  of churned customers to not churned  is 143 to 857\n",
    "- To address class imbalance Synthetic Minority Oversampling is used "
   ]
  },
  {
   "cell_type": "code",
   "execution_count": 29,
   "metadata": {},
   "outputs": [
    {
     "name": "stdout",
     "output_type": "stream",
     "text": [
      "0    1993\n",
      "1     340\n",
      "Name: churn, dtype: int64\n",
      "\n",
      "\n",
      "1    1993\n",
      "0    1993\n",
      "Name: churn, dtype: int64\n"
     ]
    }
   ],
   "source": [
    "# Address class imbalance using SMOTE \n",
    "from imblearn.over_sampling import SMOTE\n",
    "\n",
    "# Create an instance of SMOTE\n",
    "smote = SMOTE()\n",
    "\n",
    "# Previous original class distribution\n",
    "print(y_train.value_counts())\n",
    "\n",
    "# Fit SMOTE to training data\n",
    "X_train_resampled, y_train_resampled = smote.fit_resample(X_train, y_train)\n",
    "\n",
    "# Preview synthetic sample class distribution\n",
    "print('\\n')\n",
    "print(pd.Series(y_train_resampled).value_counts())\n"
   ]
  },
  {
   "cell_type": "markdown",
   "metadata": {},
   "source": [
    "**Scaling**\n",
    " * Transform the numerical features of the dataset to a similar scale "
   ]
  },
  {
   "cell_type": "code",
   "execution_count": 30,
   "metadata": {},
   "outputs": [
    {
     "data": {
      "text/html": [
       "<div>\n",
       "<style scoped>\n",
       "    .dataframe tbody tr th:only-of-type {\n",
       "        vertical-align: middle;\n",
       "    }\n",
       "\n",
       "    .dataframe tbody tr th {\n",
       "        vertical-align: top;\n",
       "    }\n",
       "\n",
       "    .dataframe thead th {\n",
       "        text-align: right;\n",
       "    }\n",
       "</style>\n",
       "<table border=\"1\" class=\"dataframe\">\n",
       "  <thead>\n",
       "    <tr style=\"text-align: right;\">\n",
       "      <th></th>\n",
       "      <th>total day minutes</th>\n",
       "      <th>total day charge</th>\n",
       "      <th>total eve minutes</th>\n",
       "      <th>total eve charge</th>\n",
       "      <th>total night minutes</th>\n",
       "      <th>total night charge</th>\n",
       "      <th>total intl minutes</th>\n",
       "      <th>total intl charge</th>\n",
       "      <th>area code_408</th>\n",
       "      <th>area code_415</th>\n",
       "      <th>area code_510</th>\n",
       "      <th>international plan_no</th>\n",
       "      <th>international plan_yes</th>\n",
       "      <th>voice mail plan_no</th>\n",
       "      <th>voice mail plan_yes</th>\n",
       "    </tr>\n",
       "  </thead>\n",
       "  <tbody>\n",
       "    <tr>\n",
       "      <th>2016</th>\n",
       "      <td>0.580476</td>\n",
       "      <td>0.580485</td>\n",
       "      <td>0.715425</td>\n",
       "      <td>0.715626</td>\n",
       "      <td>0.414739</td>\n",
       "      <td>0.414824</td>\n",
       "      <td>0.460</td>\n",
       "      <td>0.459259</td>\n",
       "      <td>0.0</td>\n",
       "      <td>0.0</td>\n",
       "      <td>1.0</td>\n",
       "      <td>1.0</td>\n",
       "      <td>0.0</td>\n",
       "      <td>1.0</td>\n",
       "      <td>0.0</td>\n",
       "    </tr>\n",
       "    <tr>\n",
       "      <th>1362</th>\n",
       "      <td>0.378559</td>\n",
       "      <td>0.378503</td>\n",
       "      <td>0.184218</td>\n",
       "      <td>0.184406</td>\n",
       "      <td>0.369016</td>\n",
       "      <td>0.369396</td>\n",
       "      <td>0.495</td>\n",
       "      <td>0.494444</td>\n",
       "      <td>0.0</td>\n",
       "      <td>0.0</td>\n",
       "      <td>1.0</td>\n",
       "      <td>1.0</td>\n",
       "      <td>0.0</td>\n",
       "      <td>1.0</td>\n",
       "      <td>0.0</td>\n",
       "    </tr>\n",
       "    <tr>\n",
       "      <th>2670</th>\n",
       "      <td>0.634515</td>\n",
       "      <td>0.634484</td>\n",
       "      <td>0.415177</td>\n",
       "      <td>0.415400</td>\n",
       "      <td>0.419042</td>\n",
       "      <td>0.419605</td>\n",
       "      <td>0.450</td>\n",
       "      <td>0.450000</td>\n",
       "      <td>0.0</td>\n",
       "      <td>0.0</td>\n",
       "      <td>1.0</td>\n",
       "      <td>1.0</td>\n",
       "      <td>0.0</td>\n",
       "      <td>0.0</td>\n",
       "      <td>1.0</td>\n",
       "    </tr>\n",
       "    <tr>\n",
       "      <th>2210</th>\n",
       "      <td>0.802731</td>\n",
       "      <td>0.802632</td>\n",
       "      <td>0.522958</td>\n",
       "      <td>0.523132</td>\n",
       "      <td>0.623991</td>\n",
       "      <td>0.624029</td>\n",
       "      <td>0.585</td>\n",
       "      <td>0.585185</td>\n",
       "      <td>0.0</td>\n",
       "      <td>1.0</td>\n",
       "      <td>0.0</td>\n",
       "      <td>1.0</td>\n",
       "      <td>0.0</td>\n",
       "      <td>1.0</td>\n",
       "      <td>0.0</td>\n",
       "    </tr>\n",
       "    <tr>\n",
       "      <th>1846</th>\n",
       "      <td>0.509297</td>\n",
       "      <td>0.509228</td>\n",
       "      <td>0.481441</td>\n",
       "      <td>0.481398</td>\n",
       "      <td>0.371436</td>\n",
       "      <td>0.371787</td>\n",
       "      <td>0.575</td>\n",
       "      <td>0.575926</td>\n",
       "      <td>0.0</td>\n",
       "      <td>0.0</td>\n",
       "      <td>1.0</td>\n",
       "      <td>1.0</td>\n",
       "      <td>0.0</td>\n",
       "      <td>0.0</td>\n",
       "      <td>1.0</td>\n",
       "    </tr>\n",
       "  </tbody>\n",
       "</table>\n",
       "</div>"
      ],
      "text/plain": [
       "      total day minutes  total day charge  total eve minutes  \\\n",
       "2016           0.580476          0.580485           0.715425   \n",
       "1362           0.378559          0.378503           0.184218   \n",
       "2670           0.634515          0.634484           0.415177   \n",
       "2210           0.802731          0.802632           0.522958   \n",
       "1846           0.509297          0.509228           0.481441   \n",
       "\n",
       "      total eve charge  total night minutes  total night charge  \\\n",
       "2016          0.715626             0.414739            0.414824   \n",
       "1362          0.184406             0.369016            0.369396   \n",
       "2670          0.415400             0.419042            0.419605   \n",
       "2210          0.523132             0.623991            0.624029   \n",
       "1846          0.481398             0.371436            0.371787   \n",
       "\n",
       "      total intl minutes  total intl charge  area code_408  area code_415  \\\n",
       "2016               0.460           0.459259            0.0            0.0   \n",
       "1362               0.495           0.494444            0.0            0.0   \n",
       "2670               0.450           0.450000            0.0            0.0   \n",
       "2210               0.585           0.585185            0.0            1.0   \n",
       "1846               0.575           0.575926            0.0            0.0   \n",
       "\n",
       "      area code_510  international plan_no  international plan_yes  \\\n",
       "2016            1.0                    1.0                     0.0   \n",
       "1362            1.0                    1.0                     0.0   \n",
       "2670            1.0                    1.0                     0.0   \n",
       "2210            0.0                    1.0                     0.0   \n",
       "1846            1.0                    1.0                     0.0   \n",
       "\n",
       "      voice mail plan_no  voice mail plan_yes  \n",
       "2016                 1.0                  0.0  \n",
       "1362                 1.0                  0.0  \n",
       "2670                 0.0                  1.0  \n",
       "2210                 1.0                  0.0  \n",
       "1846                 0.0                  1.0  "
      ]
     },
     "execution_count": 30,
     "metadata": {},
     "output_type": "execute_result"
    }
   ],
   "source": [
    "# Scale the training set \n",
    "# Instantiate MinMaxScaler\n",
    "from sklearn.preprocessing import MinMaxScaler\n",
    "scaler = MinMaxScaler()\n",
    "# fit scaler to X-train\n",
    "scaler.fit(X_train)\n",
    "#Transform scaler \n",
    "X_train_scaled = pd.DataFrame(\n",
    "    scaler.transform(X_train),  \n",
    "    index=X_train.index,\n",
    "    columns=X_train.columns)  \n",
    "X_train_scaled.head(5)"
   ]
  },
  {
   "cell_type": "code",
   "execution_count": 31,
   "metadata": {},
   "outputs": [
    {
     "data": {
      "text/html": [
       "<div>\n",
       "<style scoped>\n",
       "    .dataframe tbody tr th:only-of-type {\n",
       "        vertical-align: middle;\n",
       "    }\n",
       "\n",
       "    .dataframe tbody tr th {\n",
       "        vertical-align: top;\n",
       "    }\n",
       "\n",
       "    .dataframe thead th {\n",
       "        text-align: right;\n",
       "    }\n",
       "</style>\n",
       "<table border=\"1\" class=\"dataframe\">\n",
       "  <thead>\n",
       "    <tr style=\"text-align: right;\">\n",
       "      <th></th>\n",
       "      <th>total day minutes</th>\n",
       "      <th>total day charge</th>\n",
       "      <th>total eve minutes</th>\n",
       "      <th>total eve charge</th>\n",
       "      <th>total night minutes</th>\n",
       "      <th>total night charge</th>\n",
       "      <th>total intl minutes</th>\n",
       "      <th>total intl charge</th>\n",
       "      <th>area code_408</th>\n",
       "      <th>area code_415</th>\n",
       "      <th>area code_510</th>\n",
       "      <th>international plan_no</th>\n",
       "      <th>international plan_yes</th>\n",
       "      <th>voice mail plan_no</th>\n",
       "      <th>voice mail plan_yes</th>\n",
       "    </tr>\n",
       "  </thead>\n",
       "  <tbody>\n",
       "    <tr>\n",
       "      <th>438</th>\n",
       "      <td>0.441847</td>\n",
       "      <td>0.441818</td>\n",
       "      <td>0.965495</td>\n",
       "      <td>0.965478</td>\n",
       "      <td>0.449691</td>\n",
       "      <td>0.449246</td>\n",
       "      <td>0.714286</td>\n",
       "      <td>0.715686</td>\n",
       "      <td>0.0</td>\n",
       "      <td>0.0</td>\n",
       "      <td>1.0</td>\n",
       "      <td>1.0</td>\n",
       "      <td>0.0</td>\n",
       "      <td>1.0</td>\n",
       "      <td>0.0</td>\n",
       "    </tr>\n",
       "    <tr>\n",
       "      <th>2674</th>\n",
       "      <td>0.311003</td>\n",
       "      <td>0.311033</td>\n",
       "      <td>0.600451</td>\n",
       "      <td>0.600531</td>\n",
       "      <td>0.446605</td>\n",
       "      <td>0.446502</td>\n",
       "      <td>0.677249</td>\n",
       "      <td>0.678431</td>\n",
       "      <td>0.0</td>\n",
       "      <td>1.0</td>\n",
       "      <td>0.0</td>\n",
       "      <td>1.0</td>\n",
       "      <td>0.0</td>\n",
       "      <td>1.0</td>\n",
       "      <td>0.0</td>\n",
       "    </tr>\n",
       "    <tr>\n",
       "      <th>1345</th>\n",
       "      <td>0.000000</td>\n",
       "      <td>0.000000</td>\n",
       "      <td>0.414060</td>\n",
       "      <td>0.414264</td>\n",
       "      <td>0.380864</td>\n",
       "      <td>0.380658</td>\n",
       "      <td>0.359788</td>\n",
       "      <td>0.360784</td>\n",
       "      <td>0.0</td>\n",
       "      <td>1.0</td>\n",
       "      <td>0.0</td>\n",
       "      <td>1.0</td>\n",
       "      <td>0.0</td>\n",
       "      <td>1.0</td>\n",
       "      <td>0.0</td>\n",
       "    </tr>\n",
       "    <tr>\n",
       "      <th>1957</th>\n",
       "      <td>0.606613</td>\n",
       "      <td>0.606640</td>\n",
       "      <td>0.557562</td>\n",
       "      <td>0.557663</td>\n",
       "      <td>0.347222</td>\n",
       "      <td>0.347051</td>\n",
       "      <td>0.539683</td>\n",
       "      <td>0.539216</td>\n",
       "      <td>1.0</td>\n",
       "      <td>0.0</td>\n",
       "      <td>0.0</td>\n",
       "      <td>1.0</td>\n",
       "      <td>0.0</td>\n",
       "      <td>1.0</td>\n",
       "      <td>0.0</td>\n",
       "    </tr>\n",
       "    <tr>\n",
       "      <th>2148</th>\n",
       "      <td>0.410490</td>\n",
       "      <td>0.410463</td>\n",
       "      <td>0.623992</td>\n",
       "      <td>0.624052</td>\n",
       "      <td>0.567901</td>\n",
       "      <td>0.567901</td>\n",
       "      <td>0.529101</td>\n",
       "      <td>0.529412</td>\n",
       "      <td>1.0</td>\n",
       "      <td>0.0</td>\n",
       "      <td>0.0</td>\n",
       "      <td>1.0</td>\n",
       "      <td>0.0</td>\n",
       "      <td>1.0</td>\n",
       "      <td>0.0</td>\n",
       "    </tr>\n",
       "  </tbody>\n",
       "</table>\n",
       "</div>"
      ],
      "text/plain": [
       "      total day minutes  total day charge  total eve minutes  \\\n",
       "438            0.441847          0.441818           0.965495   \n",
       "2674           0.311003          0.311033           0.600451   \n",
       "1345           0.000000          0.000000           0.414060   \n",
       "1957           0.606613          0.606640           0.557562   \n",
       "2148           0.410490          0.410463           0.623992   \n",
       "\n",
       "      total eve charge  total night minutes  total night charge  \\\n",
       "438           0.965478             0.449691            0.449246   \n",
       "2674          0.600531             0.446605            0.446502   \n",
       "1345          0.414264             0.380864            0.380658   \n",
       "1957          0.557663             0.347222            0.347051   \n",
       "2148          0.624052             0.567901            0.567901   \n",
       "\n",
       "      total intl minutes  total intl charge  area code_408  area code_415  \\\n",
       "438             0.714286           0.715686            0.0            0.0   \n",
       "2674            0.677249           0.678431            0.0            1.0   \n",
       "1345            0.359788           0.360784            0.0            1.0   \n",
       "1957            0.539683           0.539216            1.0            0.0   \n",
       "2148            0.529101           0.529412            1.0            0.0   \n",
       "\n",
       "      area code_510  international plan_no  international plan_yes  \\\n",
       "438             1.0                    1.0                     0.0   \n",
       "2674            0.0                    1.0                     0.0   \n",
       "1345            0.0                    1.0                     0.0   \n",
       "1957            0.0                    1.0                     0.0   \n",
       "2148            0.0                    1.0                     0.0   \n",
       "\n",
       "      voice mail plan_no  voice mail plan_yes  \n",
       "438                  1.0                  0.0  \n",
       "2674                 1.0                  0.0  \n",
       "1345                 1.0                  0.0  \n",
       "1957                 1.0                  0.0  \n",
       "2148                 1.0                  0.0  "
      ]
     },
     "execution_count": 31,
     "metadata": {},
     "output_type": "execute_result"
    }
   ],
   "source": [
    "# Scale the testing set \n",
    "# fit scaler to X-test\n",
    "scaler.fit(X_test)\n",
    "#Transform scaler \n",
    "X_test_scaled = pd.DataFrame(\n",
    "    scaler.transform(X_test),  \n",
    "    index=X_test.index,\n",
    "    columns=X_test.columns)  \n",
    "X_test_scaled.head(5)"
   ]
  },
  {
   "cell_type": "markdown",
   "metadata": {},
   "source": [
    "## 2. Modeling"
   ]
  },
  {
   "cell_type": "markdown",
   "metadata": {},
   "source": [
    "##   Model Development 1: Logistic Regression\n",
    "\n",
    "Build and evaluate a baseline LogisticRegression\n",
    "\n"
   ]
  },
  {
   "cell_type": "code",
   "execution_count": 32,
   "metadata": {},
   "outputs": [],
   "source": [
    "# Instantiate the model\n",
    "logreg = LogisticRegression(C=1e12, solver = 'liblinear', fit_intercept=False,)\n",
    "\n",
    "# Fit the model\n",
    "Base_model= logreg.fit(X_train_scaled, y_train)"
   ]
  },
  {
   "cell_type": "code",
   "execution_count": 33,
   "metadata": {},
   "outputs": [],
   "source": [
    "# Predictions using train and test set\n",
    "y_hat_train=logreg.predict(X_train_scaled)\n",
    "y_hat_test= logreg.predict(X_test_scaled)"
   ]
  },
  {
   "cell_type": "markdown",
   "metadata": {},
   "source": [
    "# Evaluation of the models\n",
    "The following metrics will be used to evaluate the classifiers for both the training and test sets.\n",
    " - Precision: measures how accurate the positive predictions are.\n",
    " - Recall:  measures the model's ability to find all the relevant cases (positive cases)\n",
    " - Accuracy: \n",
    "     - measures the overall correctness of the model\n",
    "     - most common metric for classification,  providing a solid holistic view of the overall performance of our model.\n",
    " - F1 score:  \n",
    "     - Harmonic Mean of Precision and Recall,providing a single measure of efficacy\n",
    "    - This means that the F1 score cannot be high without both precision and recall also being high. \n",
    "    - High model's F1 score indicates the  model is doing well all around\n",
    "    \n",
    "- AUC Score: reflects the model's ability to distinguish between classes.\n",
    " \n",
    "**AUC ROC curve:**\n",
    "\n",
    " -  Plots the true positive rate (sensitivity) on the y-axis against the false positive rate (1 - specificity) on the x-axis.\n",
    " -  ROC curve evaluates how well the model discriminates between classes\n",
    " -  Instrumental in comparing the effectiveness of different models"
   ]
  },
  {
   "cell_type": "markdown",
   "metadata": {},
   "source": [
    "   **Evaluate the Logistic Regression predictive performance**\n",
    "  \n",
    "   "
   ]
  },
  {
   "cell_type": "code",
   "execution_count": 34,
   "metadata": {},
   "outputs": [
    {
     "name": "stdout",
     "output_type": "stream",
     "text": [
      "Classification Report (Training Set):\n",
      "               precision    recall  f1-score   support\n",
      "\n",
      "           0       0.87      0.98      0.92      1993\n",
      "           1       0.54      0.13      0.21       340\n",
      "\n",
      "    accuracy                           0.86      2333\n",
      "   macro avg       0.71      0.56      0.57      2333\n",
      "weighted avg       0.82      0.86      0.82      2333\n",
      "\n",
      "Classification Report (Testing Set):\n",
      "               precision    recall  f1-score   support\n",
      "\n",
      "           0       0.88      0.98      0.93       857\n",
      "           1       0.59      0.17      0.26       143\n",
      "\n",
      "    accuracy                           0.86      1000\n",
      "   macro avg       0.73      0.57      0.59      1000\n",
      "weighted avg       0.83      0.86      0.83      1000\n",
      "\n",
      "Confusion Matrix:\n",
      " [[840  17]\n",
      " [119  24]]\n"
     ]
    }
   ],
   "source": [
    "# Snapshot of comprehensive metrics\n",
    "classification_report_train = classification_report(y_train, y_hat_train)\n",
    "print(\"Classification Report (Training Set):\\n\", classification_report_train)\n",
    "\n",
    "classification_report_test = classification_report(y_test, y_hat_test)\n",
    "print(\"Classification Report (Testing Set):\\n\", classification_report_test)\n",
    "\n",
    "## Calculate evaluation metrics with confusion matrices \n",
    "# Print confusion matrix\n",
    "cm = confusion_matrix(y_test,y_hat_test )\n",
    "print('Confusion Matrix:\\n', cm)"
   ]
  },
  {
   "cell_type": "code",
   "execution_count": 35,
   "metadata": {},
   "outputs": [
    {
     "name": "stdout",
     "output_type": "stream",
     "text": [
      "Logistic Regression AUC: 0.7438127799854755\n"
     ]
    }
   ],
   "source": [
    "# Probability scores for test set\n",
    "y_score = logreg.fit(X_train_scaled, y_train).decision_function(X_test_scaled)\n",
    "\n",
    "# False positive rate and true positive rate\n",
    "fpr, tpr, thresholds = roc_curve(y_test, y_score)\n",
    "\n",
    "# Print AUC\n",
    "print('Logistic Regression AUC: {}'.format(auc(fpr, tpr)))"
   ]
  },
  {
   "cell_type": "markdown",
   "metadata": {},
   "source": [
    "     "
   ]
  },
  {
   "cell_type": "markdown",
   "metadata": {},
   "source": [
    "# Model Development 2: DecisionTreeClassifier"
   ]
  },
  {
   "cell_type": "code",
   "execution_count": 36,
   "metadata": {},
   "outputs": [
    {
     "data": {
      "text/plain": [
       "DecisionTreeClassifier(criterion='entropy', max_depth=5, random_state=42)"
      ]
     },
     "execution_count": 36,
     "metadata": {},
     "output_type": "execute_result"
    }
   ],
   "source": [
    "# Instantiate and fit the  classifier \n",
    "from sklearn.tree import DecisionTreeClassifier\n",
    "dt= DecisionTreeClassifier(criterion='entropy', random_state=42, max_depth = 5)\n",
    "dt.fit(X_train_scaled, y_train)"
   ]
  },
  {
   "cell_type": "code",
   "execution_count": 37,
   "metadata": {},
   "outputs": [],
   "source": [
    "# Make predictions using train and test  set\n",
    "dt_hat_train= dt.predict(X_train_scaled)\n",
    "y_pred = dt.predict(X_test_scaled)"
   ]
  },
  {
   "cell_type": "markdown",
   "metadata": {},
   "source": [
    "**Evaluate the DecisionTreeClassifier predictive performance**"
   ]
  },
  {
   "cell_type": "code",
   "execution_count": 38,
   "metadata": {},
   "outputs": [
    {
     "name": "stdout",
     "output_type": "stream",
     "text": [
      "Decision Tree AUC: 0.6847190149407186\n"
     ]
    }
   ],
   "source": [
    "# Evaluate using the AUC ROC curve\n",
    "\n",
    "# First calculate the probability scores of each of the datapoints:\n",
    "y_score = dt.predict_proba(X_test_scaled)\n",
    "# Check the AUC of predictions\n",
    "# False positive rate and true positive rate\n",
    "false_positive_rate, true_positive_rate, thresholds = roc_curve(y_test, y_pred)\n",
    "roc_auc=auc(false_positive_rate, true_positive_rate)\n",
    "# Print AUC\n",
    "print('Decision Tree AUC: {}'.format(auc(false_positive_rate, true_positive_rate)))\n"
   ]
  },
  {
   "cell_type": "code",
   "execution_count": 39,
   "metadata": {
    "scrolled": true
   },
   "outputs": [
    {
     "name": "stdout",
     "output_type": "stream",
     "text": [
      "Classification Report (Training Set):\n",
      "               precision    recall  f1-score   support\n",
      "\n",
      "           0       1.00      0.91      0.95      2183\n",
      "           1       0.43      0.98      0.60       150\n",
      "\n",
      "    accuracy                           0.92      2333\n",
      "   macro avg       0.72      0.95      0.78      2333\n",
      "weighted avg       0.96      0.92      0.93      2333\n",
      "\n",
      "Classification Report (Testing Set):\n",
      "               precision    recall  f1-score   support\n",
      "\n",
      "           0       0.91      0.98      0.94       857\n",
      "           1       0.75      0.39      0.51       143\n",
      "\n",
      "    accuracy                           0.89      1000\n",
      "   macro avg       0.83      0.68      0.73      1000\n",
      "weighted avg       0.88      0.89      0.88      1000\n",
      "\n",
      "Confusion Matrix:\n",
      " [[838  19]\n",
      " [ 87  56]]\n"
     ]
    }
   ],
   "source": [
    "# Snapshot of comprehensive metrics\n",
    "\n",
    "classification_report_test = classification_report(dt_hat_train, y_train)\n",
    "print(\"Classification Report (Training Set):\\n\", classification_report_test)\n",
    "\n",
    "classification_report_test = classification_report(y_test, y_pred)\n",
    "print(\"Classification Report (Testing Set):\\n\", classification_report_test)\n",
    "\n",
    "## Calculate evaluation metrics with confusion matrices \n",
    "# Print confusion matrix\n",
    "cm_dt = confusion_matrix(y_test,y_pred)\n",
    "print('Confusion Matrix:\\n', cm_dt)"
   ]
  },
  {
   "cell_type": "markdown",
   "metadata": {},
   "source": [
    "Model Comaparison\n",
    "Compare to the logostic regression model the decision tree has higher accuracy, lower AUC and lower false negatives . "
   ]
  },
  {
   "cell_type": "markdown",
   "metadata": {},
   "source": [
    "# Model Development 3: KNN"
   ]
  },
  {
   "cell_type": "code",
   "execution_count": 40,
   "metadata": {},
   "outputs": [],
   "source": [
    "# Instantiate KNeighborsClassifier\n",
    "knn = KNeighborsClassifier()\n",
    "\n",
    "# Fit the classifier\n",
    "knn.fit(X_train_scaled, y_train)\n",
    "\n",
    "# Predict on the train and test set\n",
    "train_preds=knn.predict(X_train_scaled)\n",
    "test_preds = knn.predict(X_test_scaled)"
   ]
  },
  {
   "cell_type": "markdown",
   "metadata": {},
   "source": [
    "**Evaluate the KNN predictive performance**"
   ]
  },
  {
   "cell_type": "code",
   "execution_count": 41,
   "metadata": {},
   "outputs": [
    {
     "name": "stdout",
     "output_type": "stream",
     "text": [
      "KNN AUC: 0.6672364974582011\n"
     ]
    }
   ],
   "source": [
    "# Evalute using the AUC ROC curve\n",
    "\n",
    "# First calculate the probability scores of each of the datapoints:\n",
    "y_score = knn.predict_proba(X_test_scaled)\n",
    "# Check the AUC of predictions\n",
    "# False positive rate and true positive rate\n",
    "false_positive_rate, true_positive_rate, thresholds = roc_curve(y_test,test_preds)\n",
    "roc_auc=auc(false_positive_rate, true_positive_rate)\n",
    "# Print AUC\n",
    "print('KNN AUC: {}'.format(auc(false_positive_rate, true_positive_rate)))"
   ]
  },
  {
   "cell_type": "code",
   "execution_count": 42,
   "metadata": {},
   "outputs": [
    {
     "name": "stdout",
     "output_type": "stream",
     "text": [
      "Classification Report (Training Set):\n",
      "               precision    recall  f1-score   support\n",
      "\n",
      "           0       0.91      0.99      0.95      1993\n",
      "           1       0.85      0.42      0.56       340\n",
      "\n",
      "    accuracy                           0.90      2333\n",
      "   macro avg       0.88      0.70      0.75      2333\n",
      "weighted avg       0.90      0.90      0.89      2333\n",
      "\n",
      "Classification Report (Testing Set):\n",
      "               precision    recall  f1-score   support\n",
      "\n",
      "           0       0.90      0.98      0.94       857\n",
      "           1       0.73      0.36      0.48       143\n",
      "\n",
      "    accuracy                           0.89      1000\n",
      "   macro avg       0.81      0.67      0.71      1000\n",
      "weighted avg       0.88      0.89      0.87      1000\n",
      "\n",
      "Confusion Matrix:\n",
      " [[838  19]\n",
      " [ 92  51]]\n"
     ]
    }
   ],
   "source": [
    "# Snapshot of comprehensive metrics\n",
    "classification_report_test = classification_report(y_train, train_preds)\n",
    "print(\"Classification Report (Training Set):\\n\", classification_report_test)\n",
    "      \n",
    "classification_report_test = classification_report(y_test, test_preds)\n",
    "print(\"Classification Report (Testing Set):\\n\", classification_report_test)\n",
    "\n",
    "\n",
    "## Calculate evaluation metrics with confusion matrices \n",
    "# Print confusion matrix\n",
    "cm_knn = confusion_matrix(y_test,test_preds )\n",
    "print('Confusion Matrix:\\n', cm_knn)"
   ]
  },
  {
   "cell_type": "markdown",
   "metadata": {},
   "source": [
    "# Model Development 4: Random Forest \n",
    "Random forest ensemble method"
   ]
  },
  {
   "cell_type": "code",
   "execution_count": 43,
   "metadata": {},
   "outputs": [
    {
     "data": {
      "text/plain": [
       "RandomForestClassifier(max_depth=5, random_state=1)"
      ]
     },
     "execution_count": 43,
     "metadata": {},
     "output_type": "execute_result"
    }
   ],
   "source": [
    "# Instantiate and fit a RandomForestClassifier\n",
    "SEED=1\n",
    "rf =RandomForestClassifier( criterion='gini', max_depth = 5, random_state=SEED)\n",
    "rf.fit(X_train_scaled, y_train)"
   ]
  },
  {
   "cell_type": "code",
   "execution_count": 44,
   "metadata": {},
   "outputs": [],
   "source": [
    "# Predict on test set \n",
    "rf_hat_train=rf.predict(X_train_scaled)\n",
    "rf_preds= rf.predict(X_test_scaled) "
   ]
  },
  {
   "cell_type": "markdown",
   "metadata": {},
   "source": [
    "# **Evaluate the Random Forest predictive performance**"
   ]
  },
  {
   "cell_type": "code",
   "execution_count": 45,
   "metadata": {},
   "outputs": [
    {
     "name": "stdout",
     "output_type": "stream",
     "text": [
      "Classification Report (Training Set):\n",
      "               precision    recall  f1-score   support\n",
      "\n",
      "           0       0.90      1.00      0.95      1993\n",
      "           1       1.00      0.38      0.55       340\n",
      "\n",
      "    accuracy                           0.91      2333\n",
      "   macro avg       0.95      0.69      0.75      2333\n",
      "weighted avg       0.92      0.91      0.89      2333\n",
      "\n",
      "Classification Report (Testing Set):\n",
      "               precision    recall  f1-score   support\n",
      "\n",
      "           0       0.90      0.99      0.94       857\n",
      "           1       0.88      0.31      0.46       143\n",
      "\n",
      "    accuracy                           0.90      1000\n",
      "   macro avg       0.89      0.65      0.70      1000\n",
      "weighted avg       0.89      0.90      0.87      1000\n",
      "\n",
      "Confusion Matrix:\n",
      " [[851   6]\n",
      " [ 98  45]]\n"
     ]
    }
   ],
   "source": [
    "# Snapshot of comprehensive metrics\n",
    "classification_report_test = classification_report(y_train, rf_hat_train)\n",
    "print(\"Classification Report (Training Set):\\n\", classification_report_test)\n",
    "\n",
    "classification_report_test = classification_report(y_test, rf_preds)\n",
    "print(\"Classification Report (Testing Set):\\n\", classification_report_test)\n",
    "\n",
    "\n",
    "# Calculate evaluation metrics with confusion matrices \n",
    "# Print confusion matrix\n",
    "cm_rf = confusion_matrix(y_test,rf_preds )\n",
    "print('Confusion Matrix:\\n', cm_rf)\n",
    "\n"
   ]
  },
  {
   "cell_type": "code",
   "execution_count": 46,
   "metadata": {},
   "outputs": [
    {
     "name": "stdout",
     "output_type": "stream",
     "text": [
      "AUC Random Forest: 0.6538420739120856\n"
     ]
    }
   ],
   "source": [
    "# Evalute using the AUC ROC curve\n",
    "# First calculate the probability scores of each of the datapoints:\n",
    "y_score = rf.predict_proba(X_test_scaled)\n",
    "# Check the AUC of predictions\n",
    "# False positive rate and true positive rate\n",
    "false_positive_rate, true_positive_rate, thresholds = roc_curve(y_test,rf_preds)\n",
    "roc_auc=auc(false_positive_rate, true_positive_rate)\n",
    "# Print AUC\n",
    "print('AUC Random Forest: {}'.format(auc(false_positive_rate, true_positive_rate)))"
   ]
  },
  {
   "cell_type": "markdown",
   "metadata": {},
   "source": [
    "# Analysis of  models perfomances and final model selection\n",
    "\n",
    " \n"
   ]
  },
  {
   "cell_type": "markdown",
   "metadata": {},
   "source": [
    "**Model Comparison**\n",
    "\n",
    "This section provides a comparison of four different classification models utilizing different evaluation metrics.\n",
    "\n",
    "\n",
    "                   \n",
    "| Model                   | Precision | Recall   | F1 Score | Accuracy | AUC Score    |\n",
    "|------------------- -----|-----------|----------|----------|----------|--------------|\n",
    "| **Logistic Regression** | 0.56     | 0.17      | 0.26    | 0.86    | **0.7453**   |\n",
    "| **KNN**                 | 0.70     | **0.41**      | **0.51**    | 0.89    | 0.6882   |    \n",
    "| **Decision Tree**       | 0.75     | 0.39      | **0.51**    | 0.858    |0.6847    |\n",
    "| **Random Forest**       | **0.88**     | 0.31      | 0.46    | **0.90**    |0.6538   |\n",
    "  \n",
    "\n",
    "\n",
    "* ***Precision***: Random Forest has the highest precision (0.88), indicating that it has the lowest rate of false positives among the models.\n",
    "* ***Recall***: KNN has the highest recall (0.41), indicating that it has the highest rate of true positives among the models.\n",
    "* ***F1 Score***: KNN and Decision Tree have the highest F1 score (0.51), which balances precision and recall, indicating their overall performance.\n",
    "* ***Accuracy***: Random Forest and KNN have the highest accuracy (0.90 and 0.89 respectively), indicating the overall correctness of the predictions.\n",
    "* ***AUC Score***: Logistic Regression has the highest AUC score (0.7453), indicating its ability to distinguish between positive and negative classes effectively based on the ROC curve.\n",
    "\n",
    "\n",
    "\n",
    "\n",
    "\n",
    " \n",
    " ##  Confusion Matrices Model Performance \n",
    "\n",
    "| Model           | True Negatives (TN) | False Positives (FP) | False Negatives (FN) | True Positives (TP) |\n",
    "|-----------------|---------------------|----------------------|----------------------|---------------------|\n",
    "| Logistic Regression | 838             | 19                   | 119                  | 24                  |\n",
    "| KNN             | 832                 | 25                   | **85**               | **58**                  |\n",
    "| Decision Tree   | 838                 | 19                   | 87                   | 56                  |\n",
    "| Random Forest   | **851**             | **6**                 | 98                | 45                  |\n",
    "\n",
    "\n",
    "\n",
    "\n",
    "\n",
    "From the chart, it is evident that:\n",
    "- KNN and Random Forest appears to be the better performers  \n",
    "- KNN achieving the highest TP accurately predict \"Churn'  and the lowest FN where the model incorrectly predicts 'No Churn', but in reality, the customer does churn.  \n",
    "- Random Forest achieves the highest TN predicts 'No Churn' and the lowest FP, predicts 'Churn' but customer does not churn\n",
    "\n",
    "These comparisons assists in determining the appropriate model based on the specific requirements of sensitivity(true positive rate)  and specificity(true negative rate)  needed for this business problem.\n"
   ]
  },
  {
   "cell_type": "code",
   "execution_count": 47,
   "metadata": {},
   "outputs": [
    {
     "data": {
      "image/png": "[encoded data removed]",
      "text/plain": [
       "<Figure size 432x288 with 1 Axes>"
      ]
     },
     "metadata": {
      "needs_background": "light"
     },
     "output_type": "display_data"
    }
   ],
   "source": [
    "# Create visualization comparing models confusion matrices\n",
    "# Confusion matrices\n",
    "cm_logistic = np.array([[838, 19], [119, 24]])\n",
    "cm_knn = np.array([[832, 25], [85, 58]])\n",
    "cm_decision_tree = np.array([[838, 19], [87, 56]])\n",
    "cm_random_forest = np.array([[851, 6], [99, 45]])\n",
    "\n",
    "  \n",
    "# Labels for the groups\n",
    "group_labels = ['True Negative', 'False Positive', 'False Negative', 'True Positive']\n",
    "\n",
    "# Data preparation\n",
    "tn_logistic, fp_logistic, fn_logistic, tp_logistic = cm_logistic.ravel()\n",
    "tn_knn, fp_knn, fn_knn, tp_knn = cm_knn.ravel()\n",
    "tn_dt, fp_dt, fn_dt, tp_dt = cm_decision_tree.ravel()\n",
    "tn_rf, fp_rf, fn_rf, tp_rf = cm_random_forest.ravel()\n",
    "\n",
    "logistic_values = [tn_logistic, fp_logistic, fn_logistic, tp_logistic]\n",
    "knn_values = [tn_knn, fp_knn, fn_knn, tp_knn]\n",
    "decision_tree_values = [tn_dt, fp_dt, fn_dt, tp_dt]\n",
    "random_forest_values = [tn_rf, fp_rf, fn_rf, tp_rf]\n",
    "\n",
    "# Number of groups\n",
    "n_groups = 4\n",
    "\n",
    "# Create bar plot\n",
    "fig, ax = plt.subplots()\n",
    "index = np.arange(n_groups)\n",
    "bar_width = 0.25\n",
    "\n",
    "rects1 = ax.bar(index, logistic_values, bar_width, label='Logistic Regression')\n",
    "rects2 = ax.bar(index + bar_width, knn_values, bar_width, label='KNN')\n",
    "rects3 = ax.bar(index + 2 * bar_width, decision_tree_values, bar_width, label='Decision Tree')\n",
    "rects4 = ax.bar(index + 3 * bar_width, random_forest_values, bar_width, label='Random Forest')\n",
    "\n",
    "ax.set_xlabel('Metric')\n",
    "ax.set_ylabel('Counts')\n",
    "ax.set_title('Comparison of Classification Models')\n",
    "ax.set_xticks(index + bar_width)\n",
    "ax.set_xticklabels(group_labels)\n",
    "ax.legend()\n",
    "\n",
    "plt.xticks(rotation=45)\n",
    "plt.show()\n"
   ]
  },
  {
   "cell_type": "markdown",
   "metadata": {},
   "source": [
    "# Model Selection and Tuning \n",
    "\n",
    "**Random Forest** was chosen for  several reasons based on an analysis of model performances:\n",
    "\n",
    "- It achieved  a high recall,the highest precision, F1, and accuracy scores among the models evaluated.\n",
    "- It had the second-highest AUC score out of the four models considered.\n",
    "- Although Random Forest did not excel the most in identifying positive predictions, as shown in the confusion matrix, it ranked second in this area and had the second-highest number of true negatives \n",
    "* Multiple uncorrelated variable \n",
    "*  Easy to evaluate variable importance or contribution to model\n",
    "* Reduce risk of overfitting "
   ]
  },
  {
   "cell_type": "markdown",
   "metadata": {},
   "source": [
    "**Hyperparameter Tuning** \n",
    "\n",
    "- GridSearchCV: to obtain the best parameters for the model \n"
   ]
  },
  {
   "cell_type": "code",
   "execution_count": 48,
   "metadata": {},
   "outputs": [
    {
     "data": {
      "text/plain": [
       "{'bootstrap': True,\n",
       " 'ccp_alpha': 0.0,\n",
       " 'class_weight': None,\n",
       " 'criterion': 'gini',\n",
       " 'max_depth': 5,\n",
       " 'max_features': 'auto',\n",
       " 'max_leaf_nodes': None,\n",
       " 'max_samples': None,\n",
       " 'min_impurity_decrease': 0.0,\n",
       " 'min_impurity_split': None,\n",
       " 'min_samples_leaf': 1,\n",
       " 'min_samples_split': 2,\n",
       " 'min_weight_fraction_leaf': 0.0,\n",
       " 'n_estimators': 100,\n",
       " 'n_jobs': None,\n",
       " 'oob_score': False,\n",
       " 'random_state': 1,\n",
       " 'verbose': 0,\n",
       " 'warm_start': False}"
      ]
     },
     "execution_count": 48,
     "metadata": {},
     "output_type": "execute_result"
    }
   ],
   "source": [
    "# Baseline random forest parameters\n",
    "rf.get_params()"
   ]
  },
  {
   "cell_type": "code",
   "execution_count": 49,
   "metadata": {},
   "outputs": [],
   "source": [
    "rf_param_grid = {\n",
    "    \"n_estimators\": [10, 30, 100],\n",
    "    \"criterion\": [\"gini\", \"entropy\"],\n",
    "    \"max_depth\": [None, 2, 6, 10],\n",
    "    \"min_samples_split\": [5, 10],\n",
    "    \"min_samples_leaf\": [3, 6],\n",
    "    'max_features': ['auto', 'sqrt', 'log2'],\n",
    "    'bootstrap': [True, False],\n",
    "    'random_state':[42]\n",
    "}\n"
   ]
  },
  {
   "cell_type": "code",
   "execution_count": 50,
   "metadata": {},
   "outputs": [
    {
     "name": "stdout",
     "output_type": "stream",
     "text": [
      "Testing Accuracy: 90.40%\n",
      "\n",
      "Optimal Parameters: {'bootstrap': False, 'criterion': 'gini', 'max_depth': None, 'max_features': 'auto', 'min_samples_leaf': 3, 'min_samples_split': 5, 'n_estimators': 100, 'random_state': 42}\n"
     ]
    }
   ],
   "source": [
    "# Instantiate GridSearchCV\n",
    "rf_grid_search = GridSearchCV (rf,rf_param_grid,cv=3 )\n",
    "# Fit to the data\n",
    "rf_grid_search.fit(X_train_scaled, y_train)\n",
    "\n",
    "print(f\"Testing Accuracy: {rf_grid_search.best_score_ :.2%}\")\n",
    "print(\"\")\n",
    "print(f\"Optimal Parameters: {rf_grid_search.best_params_}\")"
   ]
  },
  {
   "cell_type": "code",
   "execution_count": 51,
   "metadata": {},
   "outputs": [
    {
     "name": "stdout",
     "output_type": "stream",
     "text": [
      "Random forest grid search:  0.909\n"
     ]
    }
   ],
   "source": [
    "rf_score = rf_grid_search.score(X_test_scaled, y_test)\n",
    "print(\"Random forest grid search: \", rf_score)"
   ]
  },
  {
   "cell_type": "code",
   "execution_count": 52,
   "metadata": {},
   "outputs": [],
   "source": [
    "# Update the model with optimal parameters \n",
    "model_rf = RandomForestClassifier(criterion= 'gini', max_depth= None, min_samples_leaf= 3, \n",
    "                                  min_samples_split= 5, n_estimators= 100, bootstrap=False, max_features= 'auto', random_state= 42)\n",
    "model_rf.fit(X_train_scaled, y_train) \n",
    "grid_hat_train=model_rf.predict(X_train_scaled)\n",
    "y_pred_grid = model_rf.predict(X_test_scaled) "
   ]
  },
  {
   "cell_type": "code",
   "execution_count": 53,
   "metadata": {},
   "outputs": [
    {
     "name": "stdout",
     "output_type": "stream",
     "text": [
      "Classification Report (Training Set):\n",
      "               precision    recall  f1-score   support\n",
      "\n",
      "           0       0.97      1.00      0.98      1993\n",
      "           1       1.00      0.81      0.90       340\n",
      "\n",
      "    accuracy                           0.97      2333\n",
      "   macro avg       0.98      0.91      0.94      2333\n",
      "weighted avg       0.97      0.97      0.97      2333\n",
      "\n",
      "Classification Report (Testing Set):\n",
      "               precision    recall  f1-score   support\n",
      "\n",
      "           0       0.92      0.98      0.95       857\n",
      "           1       0.80      0.49      0.61       143\n",
      "\n",
      "    accuracy                           0.91      1000\n",
      "   macro avg       0.86      0.73      0.78      1000\n",
      "weighted avg       0.90      0.91      0.90      1000\n",
      "\n",
      "Confusion Matrix:\n",
      " [[839  18]\n",
      " [ 73  70]]\n"
     ]
    }
   ],
   "source": [
    "# Update Random Forest snapshot of comprehensive metrics\n",
    "classification_report_test = classification_report(y_train,grid_hat_train)\n",
    "print(\"Classification Report (Training Set):\\n\", classification_report_test)\n",
    "\n",
    "classification_report_test = classification_report(y_test, y_pred_grid)\n",
    "print(\"Classification Report (Testing Set):\\n\", classification_report_test)\n",
    "\n",
    "\n",
    "# Calculate evaluation metrics with confusion matrices \n",
    "# Print confusion matrix\n",
    "cm_model_rf = confusion_matrix(y_test,y_pred_grid )\n",
    "print('Confusion Matrix:\\n', cm_model_rf)\n"
   ]
  },
  {
   "cell_type": "code",
   "execution_count": 54,
   "metadata": {
    "scrolled": true
   },
   "outputs": [
    {
     "data": {
      "image/png": "[encoded data removed]",
      "text/plain": [
       "<Figure size 720x504 with 2 Axes>"
      ]
     },
     "metadata": {
      "needs_background": "light"
     },
     "output_type": "display_data"
    }
   ],
   "source": [
    "# Plot the Confusion Matrix\n",
    "plt.figure(figsize=(10, 7))\n",
    "sns.heatmap(cm_model_rf, annot=True, fmt='g', cmap='icefire') \n",
    "plt.xlabel('Predicted')\n",
    "plt.ylabel('True')\n",
    "plt.title('Confusion Matrix')\n",
    "plt.show()"
   ]
  },
  {
   "cell_type": "code",
   "execution_count": 55,
   "metadata": {},
   "outputs": [
    {
     "name": "stdout",
     "output_type": "stream",
     "text": [
      "AUC Random Forest model_rf: 0.7342534944635295\n"
     ]
    }
   ],
   "source": [
    "# Evalute using the AUC ROC curve\n",
    "# First calculate the probability scores of each of the datapoints:\n",
    "y_score = model_rf.predict_proba(X_test_scaled)\n",
    "# Check the AUC of predictions\n",
    "# False positive rate and true positive rate\n",
    "false_positive_rate, true_positive_rate, thresholds = roc_curve(y_test,y_pred_grid)\n",
    "roc_auc=auc(false_positive_rate, true_positive_rate)\n",
    "# Print AUC\n",
    "print('AUC Random Forest model_rf: {}'.format(auc(false_positive_rate, true_positive_rate)))"
   ]
  },
  {
   "cell_type": "code",
   "execution_count": 56,
   "metadata": {},
   "outputs": [
    {
     "name": "stdout",
     "output_type": "stream",
     "text": [
      "AUC Random Forest model_rf: 0.7342534944635295\n"
     ]
    },
    {
     "data": {
      "image/png": "[encoded data removed]",
      "text/plain": [
       "<Figure size 432x288 with 1 Axes>"
      ]
     },
     "metadata": {
      "needs_background": "light"
     },
     "output_type": "display_data"
    }
   ],
   "source": [
    "# Probability scores for test set\n",
    "y_score = model_rf.predict_proba(X_test_scaled)\n",
    "# Check the AUC of predictions\n",
    "# False positive rate and true positive rate\n",
    "false_positive_rate, true_positive_rate, thresholds = roc_curve(y_test,y_pred_grid)\n",
    "roc_auc=auc(false_positive_rate, true_positive_rate)\n",
    "print('AUC Random Forest model_rf: {}'.format(auc(false_positive_rate, true_positive_rate)))\n",
    "\n",
    "# Plot ROC curve\n",
    "plt.figure()\n",
    "plt.plot(false_positive_rate, true_positive_rate, color='darkorange', lw=1,linestyle='--' ,label='ROC curve (area = %0.2f)' % roc_auc)\n",
    "plt.plot([0, 1], [0, 1], color='navy', lw=2, linestyle='--')\n",
    "plt.xlim([0.0, 1.0])\n",
    "plt.ylim([0.0, 1.05])\n",
    "plt.xlabel('False Positive Rate')\n",
    "plt.ylabel('True Positive Rate')\n",
    "plt.title('Receiver Operating Characteristic')\n",
    "plt.legend(loc=\"lower right\")\n",
    "plt.show()\n"
   ]
  },
  {
   "cell_type": "markdown",
   "metadata": {},
   "source": [
    "# Model Improvement Analysis \n",
    "\n",
    "\n",
    "## Model Performance Comparison\n",
    "\n",
    "| Metric    | rf   | model_rf | Difference (%)  |\n",
    "|-----------|------|----------|-----------------|\n",
    "| Precision | 0.88 | 0.80     | -9.09%          |\n",
    "| Recall    | 0.31 | 0.49     | +58.06%         |\n",
    "| F1-score  | 0.46 | 0.61     | +32.61%         |\n",
    "| Accuracy  | 90%  | 91%      | +1.11%          |\n",
    "|AUC Score  |0.65  |  0.73    | +12.31%           |\n",
    "\n",
    "\n",
    "\n",
    "**Precision**\n",
    "* The rf model has a higher precision (0.88) compared to model_rf (0.80)indicting it's better at ensuring that when it predicts a positive result or churn, it is likely correct. \n",
    "*  model_rf shows a decrease in precision by 9.09%, which suggest it has a higher tendency to classify not-churn(negatives) cases as churn(positives), compared to rf.\n",
    "\n",
    "**Recall**\n",
    "* The recall of model_rf is 0.49, 58.06% higher than that of rf at 0.31. \n",
    "* model_rf is better at identifying actual positive cases overall. \n",
    "* It does not miss as many positives/churn as rf, making it a preferable model for the SyriaTel business problem \n",
    "\n",
    "**F1-Score**\n",
    "* F1-score combines precision and recall into a single metric by taking their harmonic mean. \n",
    "* model_rf has a higher F1-score (0.61) than rf (0.46),  32.61% improvement reflecting a better balance between precision and recall. \n",
    "* improvement suggests that model_rf is more robust in balancing  between missing churns and maintaining reasonable accuracy in those predictions.\n",
    "\n",
    "**Accuracy**\n",
    "* model_rf shows a slight improvement (91%) over rf (90%), with a marginal increase of 1.11%.\n",
    "* This suggests that model_rf makes correct predictions on a slightly higher percentage of the total dataset.\n",
    "\n",
    "**AUC Score**\n",
    "* AUC score improved by approximately 12.31%. \n",
    "* significant model  improvement, suggesting model_rf effectively enhances predictive performance.\n",
    "\n",
    "## Confusion Matrix Comparison\n",
    "\n",
    "| Model        | True Negatives (TN) | False Positives (FP) | False Negatives (FN) | True Positives (TP) |\n",
    "|--------------|---------------------|----------------------|----------------------|---------------------|\n",
    "| **rf**       | 851                 | 6                    | 98                   | 45                  |\n",
    "| **model_rf** | 839                 | 18                   | 73                   | 70                  |\n",
    "\n",
    "\n",
    "* TN are slightly lower at 839, indicating a slight drop in correctly identifying negative cases.\n",
    "* FP increase to 18, suggesting this model is more aggressive in predicting positives but  with associated errors \n",
    "* FN are reduced to 73, indicating better performance in catching positive cases compared to rf.\n",
    "* Significantly higher TP at 70, suggesting better effectiveness at identifying positive cases.\n"
   ]
  },
  {
   "cell_type": "markdown",
   "metadata": {},
   "source": [
    "**Feature importance**\n",
    "*  Examine the importance of each feature in the  model. \n",
    "* Check the feature_importances_ attribute of the trained model "
   ]
  },
  {
   "cell_type": "code",
   "execution_count": 57,
   "metadata": {},
   "outputs": [
    {
     "data": {
      "text/plain": [
       "area code_408             0.004551\n",
       "area code_510             0.004961\n",
       "area code_415             0.008124\n",
       "voice mail plan_no        0.026859\n",
       "voice mail plan_yes       0.028602\n",
       "total night charge        0.061461\n",
       "international plan_no     0.063774\n",
       "total night minutes       0.064528\n",
       "international plan_yes    0.065110\n",
       "total intl charge         0.067571\n",
       "total intl minutes        0.074507\n",
       "total eve minutes         0.097512\n",
       "total eve charge          0.100384\n",
       "total day charge          0.164814\n",
       "total day minutes         0.167243\n",
       "dtype: float64"
      ]
     },
     "execution_count": 57,
     "metadata": {},
     "output_type": "execute_result"
    }
   ],
   "source": [
    "# Feature importance\n",
    "feature_importances = model_rf.feature_importances_\n",
    "# Extract feature names\n",
    "feature_names = X_train_scaled.columns\n",
    "\n",
    "feature_importances = pd.Series(\n",
    "    model_rf.feature_importances_, index=feature_names\n",
    ").sort_values(ascending=True)\n",
    "\n",
    "feature_importances"
   ]
  },
  {
   "cell_type": "code",
   "execution_count": 58,
   "metadata": {},
   "outputs": [
    {
     "data": {
      "text/plain": [
       "<Figure size 576x720 with 0 Axes>"
      ]
     },
     "execution_count": 58,
     "metadata": {},
     "output_type": "execute_result"
    },
    {
     "data": {
      "image/png": "[encoded data removed]",
      "text/plain": [
       "<Figure size 432x288 with 1 Axes>"
      ]
     },
     "metadata": {
      "needs_background": "light"
     },
     "output_type": "display_data"
    },
    {
     "data": {
      "text/plain": [
       "<Figure size 576x720 with 0 Axes>"
      ]
     },
     "metadata": {},
     "output_type": "display_data"
    }
   ],
   "source": [
    "# Visualize ranked feature importances \n",
    "ax = feature_importances.plot.barh()\n",
    "ax.set_title(\"Random Forest Feature Importances \")\n",
    "ax.figure.tight_layout()\n",
    "plt.figure(figsize=(8,10))"
   ]
  },
  {
   "cell_type": "markdown",
   "metadata": {},
   "source": [
    "# Analysis of the feature importances revealed the following:\n",
    "\n",
    "**Daytime  usage**\n",
    "- Total Day Minutes( 0.167243) highest feature importance in the model, suggesting that the number of minutes customers use during the day is highly predictive of customer propensity to churn. \n",
    "- Total Day Charge(0.164814) is ranked second .\n",
    "- The amount of usage and the associated charges during the day are significant predictors of customer behavior.\n",
    "-  Customers who use the service heavily during the day are crucial for the model's predictions\n",
    "- Day rate = 0.17\n",
    "\n",
    "**Evening time usage** \n",
    "- Total Evening Charge(0.100384)  is ranked third \n",
    "- Associated Total Evening Minutes (0.097512 ) follows.\n",
    "- Evening time usage is highly important indicating  another critical factor in predicting customer behavior. \n",
    "- These features are slightly less important than daytime usage but still play a major predictor of customer churn.\n",
    "- Evening rate= 0.085\n",
    "\n",
    "\n",
    "**International usage and plan** \n",
    "- Total International Minutes (0.074507) and Total International Charge (0.067571) are also important, further emphasizing the relevance of usage in predicting customer behavior.\n",
    "- International Plan Yes (0.065110) and International Plan No (0.063774) ranking indicates that subscribers opting for or against this add-on service has significant impact on churn. \n",
    "-  10.38% of subscribers utilize international plan \n",
    "- 39.56% of international plans subscribers terminate the service indicating distinctive pattern of churn behavior compared to those without the plan.\n",
    "\n",
    "\n",
    "**Night time usage** \n",
    "- Total Night Minutes (0.064528) and Total Night Charge (0.061461)  as indicators of night time usage are less important than day time usage, evening and international usage.\n",
    "- Night rate = 0.045\n",
    "\n",
    "**Voice mail Plan** \n",
    "- Voice Mail Plan Yes (0.028602) and Voice Mail Plan No (0.026859) importance is ranked low but subscribers participation in this plan or not  still influences customer behavior \n",
    "\n",
    "**Geographical location**\n",
    "- The least important features of the model are the area codes:Area Code 415 (0.008124), Area Code 510 (0.004961), and Area Code 408 (0.004551) \n",
    "- Geographical location has minimal impact on customer propensity to churn "
   ]
  },
  {
   "cell_type": "markdown",
   "metadata": {},
   "source": [
    "# Predictive Recommendations\n",
    "\n",
    "Based on the above analysis the following predictive recommendation are proposed:\n",
    "\n",
    "1. Concentrated Usage Analysis\n",
    "\n",
    "    - Accurate and meticulous data collection for daytime usage, the highest ranking importance\n",
    "    - Employ detailed analysis of usage patterns, including  rate structure for different times of day. Currently evening rate is  approximately 50% cheaper than day rate while night rate is 74% cheaper\n",
    "    - Recognize customers are inclined to use the service more during the daytime making daytime usage the best predictor of subscribers intentions to terminate service.\n",
    "    - Allocate resources to track and analyze daytime usage patterns to optimize identification of high-risk customers and employ mitigation strategies to ensure retention.\n",
    "\n",
    "\n",
    "2. Customer Segmentation\n",
    "\n",
    "    - Plan types impacts  prediction,voicemail plans to a lesser extent. Understanding how different plans influence customer behavior can help tailor retention strategies.\n",
    "    - Utilize insights on plan types and usage patterns to segment customers effectively and target high-risk groups with tailored interventions\n",
    "    \n",
    "\n",
    "3. Invest in Subscription Analytics\n",
    "\n",
    "    - Acquire dashboards to monitor high-importance features in real-time, allowing for proactive measures to prevent churn\n",
    "    \n",
    "\n",
    "4. Survey customers at the point of cancel\n",
    "\n",
    "    - Utilize churn survey to gather data to understand why customers cancel their accounts.\n",
    "    - Survey can identify issues and improve SyriaTel product"
   ]
  },
  {
   "cell_type": "code",
   "execution_count": null,
   "metadata": {},
   "outputs": [],
   "source": []
  }
 ],
 "metadata": {
  "kernelspec": {
   "display_name": "Python (learn-env)",
   "language": "python",
   "name": "learn-env"
  },
  "language_info": {
   "codemirror_mode": {
    "name": "ipython",
    "version": 3
   },
   "file_extension": ".py",
   "mimetype": "text/x-python",
   "name": "python",
   "nbconvert_exporter": "python",
   "pygments_lexer": "ipython3",
   "version": "3.8.5"
  }
 },
 "nbformat": 4,
 "nbformat_minor": 2
}
